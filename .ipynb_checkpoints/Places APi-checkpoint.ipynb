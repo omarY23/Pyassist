{
 "cells": [
  {
   "cell_type": "code",
   "execution_count": 2,
   "id": "1303292b",
   "metadata": {},
   "outputs": [
    {
     "name": "stdout",
     "output_type": "stream",
     "text": [
      "Data written to places_info.csv\n"
     ]
    }
   ],
   "source": [
    "import requests\n",
    "import csv\n",
    "from math import radians, sin, cos, sqrt, atan2\n",
    "\n",
    "def haversine(lat1, lon1, lat2, lon2):\n",
    "    # Convert latitude and longitude from degrees to radians\n",
    "    lat1, lon1, lat2, lon2 = map(radians, [lat1, lon1, lat2, lon2])\n",
    "\n",
    "    # Haversine formula\n",
    "    dlat = lat2 - lat1\n",
    "    dlon = lon2 - lon1\n",
    "    a = sin(dlat / 2)**2 + cos(lat1) * cos(lat2) * sin(dlon / 2)**2\n",
    "    c = 2 * atan2(sqrt(a), sqrt(1 - a))\n",
    "    distance = 6371 * c  # Radius of Earth in kilometers\n",
    "    return distance\n",
    "\n",
    "# Specify your location coordinates\n",
    "your_lat, your_lon = -87.770231, 41.878968  # Example location in Chicago\n",
    "\n",
    "api_url = \"https://api.geoapify.com/v2/places\"\n",
    "api_key = \"eb090fa5ec57436fab6b694e5bc43ee3\"\n",
    "\n",
    "# Define the parameters for the API request\n",
    "params = {\n",
    "    \"categories\": \"catering.restaurant,catering.cafe\",\n",
    "    \"filter\": \"circle:-87.770231,41.878968,5000\",\n",
    "    \"limit\": 20,\n",
    "    \"apiKey\": api_key\n",
    "}\n",
    "\n",
    "# Make the API request\n",
    "response = requests.get(api_url, params=params)\n",
    "\n",
    "# Check if the request was successful\n",
    "if response.status_code == 200:\n",
    "    # Parse the JSON response\n",
    "    data = response.json()\n",
    "    # Specify the CSV file path\n",
    "    csv_file_path = \"places_info.csv\"\n",
    "    # Write the data to the CSV file\n",
    "    with open(csv_file_path, mode='w', newline='') as file:\n",
    "        writer = csv.writer(file)\n",
    "        # Write the header row\n",
    "        writer.writerow([\"Address\", \"Distance\", \"Place ID\"])\n",
    "        # Access the features in the response\n",
    "        for feature in data['features']:\n",
    "            # Access the properties of each feature\n",
    "            formatted_address = feature['properties'].get('formatted', 'Formatted address not available')\n",
    "            lat = feature['geometry']['coordinates'][1]  # Latitude\n",
    "            lon = feature['geometry']['coordinates'][0]  # Longitude\n",
    "            place_id = feature['properties'].get('place_id', 'Place ID not available')\n",
    "            # Calculate the distance from your location\n",
    "            distance = haversine(your_lat, your_lon, lat, lon)\n",
    "            # Write the data to the CSV file\n",
    "            writer.writerow([formatted_address, distance, place_id])\n",
    "    print(f\"Data written to {csv_file_path}\")\n",
    "else:\n",
    "    print(\"Failed to retrieve data from the API\")\n"
   ]
  }
 ],
 "metadata": {
  "kernelspec": {
   "display_name": "Python 3 (ipykernel)",
   "language": "python",
   "name": "python3"
  },
  "language_info": {
   "codemirror_mode": {
    "name": "ipython",
    "version": 3
   },
   "file_extension": ".py",
   "mimetype": "text/x-python",
   "name": "python",
   "nbconvert_exporter": "python",
   "pygments_lexer": "ipython3",
   "version": "3.9.12"
  }
 },
 "nbformat": 4,
 "nbformat_minor": 5
}
