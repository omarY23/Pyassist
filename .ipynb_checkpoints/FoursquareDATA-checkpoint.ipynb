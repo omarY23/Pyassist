{
 "cells": [
  {
   "cell_type": "code",
   "execution_count": 78,
   "id": "0d204175",
   "metadata": {
    "collapsed": true
   },
   "outputs": [
    {
     "name": "stdout",
     "output_type": "stream",
     "text": [
      "{'results': [{'fsq_id': '5d434058ba462b0008f64658', 'categories': [{'id': 13002, 'name': 'Bakery', 'short_name': 'Bakery', 'plural_name': 'Bakeries', 'icon': {'prefix': 'https://ss3.4sqi.net/img/categories_v2/food/bakery_', 'suffix': '.png'}}, {'id': 13034, 'name': 'Café', 'short_name': 'Café', 'plural_name': 'Cafés', 'icon': {'prefix': 'https://ss3.4sqi.net/img/categories_v2/food/cafe_', 'suffix': '.png'}}, {'id': 13334, 'name': 'Sandwich Spot', 'short_name': 'Sandwich Spot', 'plural_name': 'Sandwich Spots', 'icon': {'prefix': 'https://ss3.4sqi.net/img/categories_v2/food/deli_', 'suffix': '.png'}}], 'chains': [], 'closed_bucket': 'VeryLikelyOpen', 'distance': 634, 'geocodes': {'drop_off': {'latitude': 40.782391, 'longitude': -73.978874}, 'main': {'latitude': 40.782225, 'longitude': -73.978646}, 'roof': {'latitude': 40.782225, 'longitude': -73.978646}}, 'link': '/v3/places/5d434058ba462b0008f64658', 'location': {'address': '375 Amsterdam Ave', 'census_block': '360610161001000', 'country': 'US', 'cross_street': 'at W78th St', 'dma': 'New York', 'formatted_address': '375 Amsterdam Ave (at W78th St), New York, NY 10024', 'locality': 'New York', 'postcode': '10024', 'region': 'NY'}, 'name': 'Daily Provisions', 'related_places': {}, 'timezone': 'America/New_York'}, {'fsq_id': '42377700f964a52026201fe3', 'categories': [{'id': 13039, 'name': 'Deli', 'short_name': 'Deli', 'plural_name': 'Delis', 'icon': {'prefix': 'https://ss3.4sqi.net/img/categories_v2/food/deli_', 'suffix': '.png'}}, {'id': 13068, 'name': 'American Restaurant', 'short_name': 'American', 'plural_name': 'American Restaurants', 'icon': {'prefix': 'https://ss3.4sqi.net/img/categories_v2/food/default_', 'suffix': '.png'}}], 'chains': [], 'closed_bucket': 'Unsure', 'distance': 711, 'geocodes': {'main': {'latitude': 40.784845, 'longitude': -73.979579}, 'roof': {'latitude': 40.784845, 'longitude': -73.979579}}, 'link': '/v3/places/42377700f964a52026201fe3', 'location': {'address': '2245 Broadway', 'census_block': '360610167003001', 'country': 'US', 'cross_street': 'at W 80th St', 'dma': 'New York', 'formatted_address': '2245 Broadway (at W 80th St), New York, NY 10024', 'locality': 'New York', 'postcode': '10024', 'region': 'NY'}, 'name': \"Zabar's\", 'related_places': {'children': []}, 'timezone': 'America/New_York'}, {'fsq_id': '4bc38504abf4952123e0c393', 'categories': [{'id': 13034, 'name': 'Café', 'short_name': 'Café', 'plural_name': 'Cafés', 'icon': {'prefix': 'https://ss3.4sqi.net/img/categories_v2/food/cafe_', 'suffix': '.png'}}, {'id': 13035, 'name': 'Coffee Shop', 'short_name': 'Coffee Shop', 'plural_name': 'Coffee Shops', 'icon': {'prefix': 'https://ss3.4sqi.net/img/categories_v2/food/coffeeshop_', 'suffix': '.png'}}, {'id': 13065, 'name': 'Restaurant', 'short_name': 'Restaurant', 'plural_name': 'Restaurants', 'icon': {'prefix': 'https://ss3.4sqi.net/img/categories_v2/food/default_', 'suffix': '.png'}}], 'chains': [], 'closed_bucket': 'Unsure', 'distance': 1073, 'geocodes': {'main': {'latitude': 40.783901, 'longitude': -73.958474}, 'roof': {'latitude': 40.783901, 'longitude': -73.958474}}, 'link': '/v3/places/4bc38504abf4952123e0c393', 'location': {'address': '2 E 90th St', 'census_block': '360610150024001', 'country': 'US', 'cross_street': 'at 5th Ave', 'dma': 'New York', 'formatted_address': '2 E 90th St (at 5th Ave), New York, NY 10128', 'locality': 'New York', 'postcode': '10128', 'region': 'NY'}, 'name': 'Bluestone Lane', 'related_places': {}, 'timezone': 'America/New_York'}, {'fsq_id': '4a22d7f9f964a520977d1fe3', 'categories': [{'id': 13236, 'name': 'Italian Restaurant', 'short_name': 'Italian', 'plural_name': 'Italian Restaurants', 'icon': {'prefix': 'https://ss3.4sqi.net/img/categories_v2/food/italian_', 'suffix': '.png'}}], 'chains': [], 'closed_bucket': 'Unsure', 'distance': 1114, 'geocodes': {'main': {'latitude': 40.775413, 'longitude': -73.962997}, 'roof': {'latitude': 40.775413, 'longitude': -73.962997}}, 'link': '/v3/places/4a22d7f9f964a520977d1fe3', 'location': {'address': '1000 Madison Ave', 'census_block': '360610142004002', 'country': 'US', 'cross_street': 'btwn 77th & 78th St.', 'formatted_address': '1000 Madison Ave (btwn 77th & 78th St.), New York, NY 10075', 'locality': 'New York', 'postcode': '10075', 'region': 'NY'}, 'name': 'Sant Ambroeus', 'related_places': {}, 'timezone': 'America/New_York'}, {'fsq_id': '5f3808ff2447bd0cbbf77347', 'categories': [{'id': 13002, 'name': 'Bakery', 'short_name': 'Bakery', 'plural_name': 'Bakeries', 'icon': {'prefix': 'https://ss3.4sqi.net/img/categories_v2/food/bakery_', 'suffix': '.png'}}, {'id': 13034, 'name': 'Café', 'short_name': 'Café', 'plural_name': 'Cafés', 'icon': {'prefix': 'https://ss3.4sqi.net/img/categories_v2/food/cafe_', 'suffix': '.png'}}, {'id': 13065, 'name': 'Restaurant', 'short_name': 'Restaurant', 'plural_name': 'Restaurants', 'icon': {'prefix': 'https://ss3.4sqi.net/img/categories_v2/food/default_', 'suffix': '.png'}}], 'chains': [], 'closed_bucket': 'LikelyOpen', 'distance': 1242, 'geocodes': {'main': {'latitude': 40.794034, 'longitude': -73.971107}, 'roof': {'latitude': 40.794034, 'longitude': -73.971107}}, 'link': '/v3/places/5f3808ff2447bd0cbbf77347', 'location': {'address': '204 W 96th St', 'census_block': '360610183007000', 'country': 'US', 'cross_street': 'Broadway', 'dma': 'New York', 'formatted_address': '204 W 96th St (Broadway), New York, NY 10025', 'locality': 'New York', 'postcode': '10025', 'region': 'NY'}, 'name': 'Gertrude', 'related_places': {}, 'timezone': 'America/New_York'}, {'fsq_id': '5abb96b31f8ed641d150eafa', 'categories': [{'id': 13035, 'name': 'Coffee Shop', 'short_name': 'Coffee Shop', 'plural_name': 'Coffee Shops', 'icon': {'prefix': 'https://ss3.4sqi.net/img/categories_v2/food/coffeeshop_', 'suffix': '.png'}}, {'id': 13065, 'name': 'Restaurant', 'short_name': 'Restaurant', 'plural_name': 'Restaurants', 'icon': {'prefix': 'https://ss3.4sqi.net/img/categories_v2/food/default_', 'suffix': '.png'}}], 'chains': [], 'closed_bucket': 'Unsure', 'distance': 1371, 'geocodes': {'drop_off': {'latitude': 40.778974, 'longitude': -73.955967}, 'main': {'latitude': 40.778845, 'longitude': -73.955788}, 'roof': {'latitude': 40.778845, 'longitude': -73.955788}}, 'link': '/v3/places/5abb96b31f8ed641d150eafa', 'location': {'address': '1269 Lexington Ave', 'census_block': '360610148012000', 'country': 'US', 'cross_street': '85 St', 'dma': 'New York', 'formatted_address': '1269 Lexington Ave (85 St), New York, NY 10028', 'locality': 'New York', 'postcode': '10028', 'region': 'NY'}, 'name': 'Variety Coffee Roasters', 'related_places': {}, 'timezone': 'America/New_York'}, {'fsq_id': '5328a418498e4be839240b62', 'categories': [{'id': 13009, 'name': 'Cocktail Bar', 'short_name': 'Cocktail', 'plural_name': 'Cocktail Bars', 'icon': {'prefix': 'https://ss3.4sqi.net/img/categories_v2/nightlife/cocktails_', 'suffix': '.png'}}, {'id': 13034, 'name': 'Café', 'short_name': 'Café', 'plural_name': 'Cafés', 'icon': {'prefix': 'https://ss3.4sqi.net/img/categories_v2/food/cafe_', 'suffix': '.png'}}, {'id': 13236, 'name': 'Italian Restaurant', 'short_name': 'Italian', 'plural_name': 'Italian Restaurants', 'icon': {'prefix': 'https://ss3.4sqi.net/img/categories_v2/food/italian_', 'suffix': '.png'}}], 'chains': [], 'closed_bucket': 'Unsure', 'distance': 1547, 'geocodes': {'drop_off': {'latitude': 40.787583, 'longitude': -73.953899}, 'main': {'latitude': 40.787742, 'longitude': -73.95412}, 'roof': {'latitude': 40.787742, 'longitude': -73.95412}}, 'link': '/v3/places/5328a418498e4be839240b62', 'location': {'address': '1392 Madison Ave', 'census_block': '360610160021001', 'country': 'US', 'cross_street': 'btwn E 96th & E 97th St', 'dma': 'New York', 'formatted_address': '1392 Madison Ave (btwn E 96th & E 97th St), New York, NY 10029', 'locality': 'New York', 'postcode': '10029', 'region': 'NY'}, 'name': 'Da Capo', 'related_places': {}, 'timezone': 'America/New_York'}, {'fsq_id': '5dbf3656eb5a0d000859a595', 'categories': [{'id': 13035, 'name': 'Coffee Shop', 'short_name': 'Coffee Shop', 'plural_name': 'Coffee Shops', 'icon': {'prefix': 'https://ss3.4sqi.net/img/categories_v2/food/coffeeshop_', 'suffix': '.png'}}, {'id': 13065, 'name': 'Restaurant', 'short_name': 'Restaurant', 'plural_name': 'Restaurants', 'icon': {'prefix': 'https://ss3.4sqi.net/img/categories_v2/food/default_', 'suffix': '.png'}}], 'chains': [], 'closed_bucket': 'LikelyOpen', 'distance': 1638, 'geocodes': {'drop_off': {'latitude': 40.774439, 'longitude': -73.955561}, 'main': {'latitude': 40.774316, 'longitude': -73.955613}, 'roof': {'latitude': 40.774316, 'longitude': -73.955613}}, 'link': '/v3/places/5dbf3656eb5a0d000859a595', 'location': {'address': '228 E 80th St', 'census_block': '360610138009000', 'country': 'US', 'cross_street': '', 'formatted_address': '228 E 80th St, New York, NY 10075', 'locality': 'New York', 'postcode': '10075', 'region': 'NY'}, 'name': '787 Coffee', 'related_places': {}, 'timezone': 'America/New_York'}, {'fsq_id': '5b0edcd498fbfc002cfcad0e', 'categories': [{'id': 13025, 'name': 'Wine Bar', 'short_name': 'Wine Bar', 'plural_name': 'Wine Bars', 'icon': {'prefix': 'https://ss3.4sqi.net/img/categories_v2/food/winery_', 'suffix': '.png'}}, {'id': 13035, 'name': 'Coffee Shop', 'short_name': 'Coffee Shop', 'plural_name': 'Coffee Shops', 'icon': {'prefix': 'https://ss3.4sqi.net/img/categories_v2/food/coffeeshop_', 'suffix': '.png'}}, {'id': 13065, 'name': 'Restaurant', 'short_name': 'Restaurant', 'plural_name': 'Restaurants', 'icon': {'prefix': 'https://ss3.4sqi.net/img/categories_v2/food/default_', 'suffix': '.png'}}], 'chains': [], 'closed_bucket': 'VeryLikelyOpen', 'distance': 1999, 'geocodes': {'drop_off': {'latitude': 40.77842, 'longitude': -73.948385}, 'main': {'latitude': 40.778552, 'longitude': -73.948566}, 'roof': {'latitude': 40.778552, 'longitude': -73.948566}}, 'link': '/v3/places/5b0edcd498fbfc002cfcad0e', 'location': {'address': '1705 1st Ave', 'census_block': '360610146023000', 'country': 'US', 'cross_street': '', 'dma': 'New York', 'formatted_address': '1705 1st Ave, New York, NY 10128', 'locality': 'New York', 'postcode': '10128', 'region': 'NY'}, 'name': 'Stella & Fly', 'related_places': {}, 'timezone': 'America/New_York'}, {'fsq_id': '4e9078d6b63456ab9570ec12', 'categories': [{'id': 13034, 'name': 'Café', 'short_name': 'Café', 'plural_name': 'Cafés', 'icon': {'prefix': 'https://ss3.4sqi.net/img/categories_v2/food/cafe_', 'suffix': '.png'}}, {'id': 13035, 'name': 'Coffee Shop', 'short_name': 'Coffee Shop', 'plural_name': 'Coffee Shops', 'icon': {'prefix': 'https://ss3.4sqi.net/img/categories_v2/food/coffeeshop_', 'suffix': '.png'}}, {'id': 13065, 'name': 'Restaurant', 'short_name': 'Restaurant', 'plural_name': 'Restaurants', 'icon': {'prefix': 'https://ss3.4sqi.net/img/categories_v2/food/default_', 'suffix': '.png'}}], 'chains': [], 'closed_bucket': 'Unsure', 'distance': 2126, 'geocodes': {'drop_off': {'latitude': 40.769328, 'longitude': -73.953522}, 'main': {'latitude': 40.769189, 'longitude': -73.953581}, 'roof': {'latitude': 40.769189, 'longitude': -73.953581}}, 'link': '/v3/places/4e9078d6b63456ab9570ec12', 'location': {'address': '422 E 75th St', 'census_block': '360610132012000', 'country': 'US', 'cross_street': 'btwn York & 1st Ave', 'dma': 'New York', 'formatted_address': '422 E 75th St (btwn York & 1st Ave), New York, NY 10021', 'locality': 'New York', 'postcode': '10021', 'region': 'NY'}, 'name': 'Oslo Coffee Roasters', 'related_places': {}, 'timezone': 'America/New_York'}], 'context': {'geo_bounds': {'circle': {'center': {'latitude': 40.783058, 'longitude': -73.971252}, 'radius': 22000}}}}\n",
      "Number of elements in the response array: 10\n"
     ]
    }
   ],
   "source": [
    "import requests\n",
    "import csv\n",
    "\n",
    "url = \"https://api.foursquare.com/v3/places/search\"\n",
    "\n",
    "params = {\n",
    "    \"query\": \"coffee\",\n",
    "    \"ll\": \"40.783058,-73.971252\",\n",
    "    \"open_now\": \"true\",\n",
    "    \"sort\": \"DISTANCE\"\n",
    "}\n",
    "\n",
    "headers = {\n",
    "    \"Accept\": \"application/json\",\n",
    "    \"Authorization\": \"fsq38VO0GeyC+Ebicj6/shufS1vd6pPnEVYa4+L48jSJq1k=\"\n",
    "}\n",
    "\n",
    "response = requests.request(\"GET\", url, params=params, headers=headers)\n",
    "\n",
    "if response.status_code == 200:\n",
    "    data = response.json()\n",
    "    print(data)\n",
    "    print(f\"Number of elements in the response array: {len(data['results'])}\")\n",
    "\n",
    "    # Create a list to store the sorted results\n",
    "    sorted_results = []\n",
    "    for result in data['results']:\n",
    "        fsq_id = result.get('fsq_id', 'fsq_id not available')\n",
    "        name = result.get('name', 'Name not available')\n",
    "        formatted_address = result['location'].get('formatted_address', 'Address not available')\n",
    "        latitude = result['geocodes']['main'].get('latitude', 'Latitude not available')\n",
    "        longitude = result['geocodes']['main'].get('longitude', 'Longitude not available')\n",
    "        category_id = result['categories'][0].get('id', 'Category ID not available') if result.get('categories') else ''\n",
    "        sorted_results.append({'fsq Id': fsq_id, 'Name': name, 'Address': formatted_address, 'Latitude': latitude, 'Longitude': longitude, 'Category ID': category_id})\n",
    "\n",
    "    # Write the sorted results to a CSV file\n",
    "    with open('POI.csv', mode='w', newline='') as file:\n",
    "        writer = csv.DictWriter(file, fieldnames=['fsq Id', 'Name', 'Address', 'Latitude', 'Longitude', 'Category ID'])\n",
    "        writer.writeheader()\n",
    "        for place in sorted_results:\n",
    "            writer.writerow(place)\n",
    "else:\n",
    "    print(\"Failed to retrieve data from the API\")\n"
   ]
  },
  {
   "cell_type": "code",
   "execution_count": 79,
   "id": "c06ca920",
   "metadata": {
    "collapsed": true
   },
   "outputs": [
    {
     "name": "stdout",
     "output_type": "stream",
     "text": [
      "{'results': [{'popularity': 0.987685329234691, 'rating': 9.1, 'stats': {'total_photos': 71, 'total_ratings': 144, 'total_tips': 23}, 'website': 'http://dailyprovisionsnyc.com'}, {'popularity': 0.9989128601150868, 'rating': 9.0, 'stats': {'total_photos': 757, 'total_ratings': 1037, 'total_tips': 216}, 'website': 'http://www.zabars.com'}, {'popularity': 0.9938582844432782, 'rating': 8.7, 'stats': {'total_photos': 380, 'total_ratings': 539, 'total_tips': 94}, 'website': 'https://bluestonelane.com'}, {'popularity': 0.9923983513794389, 'rating': 8.7, 'stats': {'total_photos': 353, 'total_ratings': 467, 'total_tips': 94}, 'website': 'http://www.santambroeus.com'}, {'popularity': 0.993291805422787, 'rating': 8.6, 'stats': {'total_photos': 15, 'total_ratings': 30, 'total_tips': 6}, 'website': 'https://www.gertrudenyc.com'}, {'popularity': 0.9964095226789459, 'rating': 8.6, 'stats': {'total_photos': 103, 'total_ratings': 116, 'total_tips': 15}, 'website': 'https://varietycoffeeroasters.com'}, {'popularity': 0.9866315116451009, 'rating': 8.7, 'stats': {'total_photos': 72, 'total_ratings': 173, 'total_tips': 39}, 'website': 'http://www.dacaponyc.com'}, {'popularity': 0.976772277516406, 'rating': 8.6, 'stats': {'total_photos': 26, 'total_ratings': 34, 'total_tips': 4}, 'website': 'http://coffeeshops.787coffee.com'}, {'popularity': 0.9786070864026292, 'rating': 8.8, 'stats': {'total_photos': 16, 'total_ratings': 49, 'total_tips': 10}, 'website': 'https://www.stellaandfly.com'}, {'popularity': 0.9827452989530552, 'rating': 8.7, 'stats': {'total_photos': 142, 'total_ratings': 348, 'total_tips': 80}, 'website': 'http://oslocoffee.com'}], 'context': {'geo_bounds': {'circle': {'center': {'latitude': 40.783058, 'longitude': -73.971252}, 'radius': 22000}}}}\n",
      "Number of elements in the response array: 10\n"
     ]
    }
   ],
   "source": [
    "#Places Rich Data\n",
    "\n",
    "url = \"https://api.foursquare.com/v3/places/search\"\n",
    "\n",
    "params = {\n",
    "    \"query\": \"coffee\",\n",
    "    \"ll\": \"40.783058,-73.971252\",\n",
    "    \"open_now\": \"true\",\n",
    "    \"sort\": \"DISTANCE\",\n",
    "    \"fields\": \"website,rating,popularity,stats\"\n",
    "}\n",
    "\n",
    "headers = {\n",
    "    \"Accept\": \"application/json\",\n",
    "    \"Authorization\": \"fsq38VO0GeyC+Ebicj6/shufS1vd6pPnEVYa4+L48jSJq1k=\"\n",
    "}\n",
    "\n",
    "response = requests.request(\"GET\", url, params=params, headers=headers)\n",
    "\n",
    "if response.status_code == 200:\n",
    "    data = response.json()\n",
    "    print(data)\n",
    "    print(f\"Number of elements in the response array: {len(data['results'])}\")\n",
    "    \n",
    "    # Create a list to store the sorted results\n",
    "    sorted_results = []\n",
    "    for result in data['results']:\n",
    "        popularity = result.get('popularity', '')\n",
    "        rating = result.get('rating', '')\n",
    "        website = result.get('website', '')\n",
    "        total_ratings = result['stats'].get('total_ratings','')\n",
    "        sorted_results.append({'Popularity': popularity, 'Ratings': rating, 'Total Ratings': total_ratings, 'Website': website, })\n",
    "    \n",
    "    with open('POI_details.csv', mode='w', newline='') as file:\n",
    "        writer = csv.DictWriter(file, fieldnames=['Popularity', 'Ratings', 'Total Ratings','Website'])\n",
    "        writer.writeheader()\n",
    "        for place in sorted_results:\n",
    "            writer.writerow(place)\n",
    "\n",
    "\n"
   ]
  },
  {
   "cell_type": "code",
   "execution_count": 80,
   "id": "2cf77c2e",
   "metadata": {},
   "outputs": [],
   "source": [
    "#Combining the datas to a single csv\n",
    "import csv\n",
    "\n",
    "# Open the first CSV file and read its contents\n",
    "with open('POI.csv', mode='r') as file1:\n",
    "    reader1 = csv.DictReader(file1)\n",
    "    data1 = list(reader1)\n",
    "\n",
    "# Open the second CSV file and read its contents\n",
    "with open('POI_details.csv', mode='r') as file2:\n",
    "    reader2 = csv.DictReader(file2)\n",
    "    data2 = list(reader2)\n",
    "\n",
    "# Combine the rows from both CSV files row-wise\n",
    "combined_data = []\n",
    "for row1, row2 in zip(data1, data2):\n",
    "    combined_row = {**row1, **row2}  # Merge the two dictionaries\n",
    "    combined_data.append(combined_row)\n",
    "\n",
    "# Write the combined data to a new CSV file\n",
    "with open('POI_FINAL.csv', mode='w', newline='') as file:\n",
    "    fieldnames = list(data1[0].keys()) + list(data2[0].keys())  # Combine the fieldnames\n",
    "    writer = csv.DictWriter(file, fieldnames=fieldnames)\n",
    "    writer.writeheader()\n",
    "    for row in combined_data:\n",
    "        writer.writerow(row)\n"
   ]
  },
  {
   "cell_type": "code",
   "execution_count": null,
   "id": "2e1754c3",
   "metadata": {},
   "outputs": [],
   "source": []
  }
 ],
 "metadata": {
  "kernelspec": {
   "display_name": "Python 3 (ipykernel)",
   "language": "python",
   "name": "python3"
  },
  "language_info": {
   "codemirror_mode": {
    "name": "ipython",
    "version": 3
   },
   "file_extension": ".py",
   "mimetype": "text/x-python",
   "name": "python",
   "nbconvert_exporter": "python",
   "pygments_lexer": "ipython3",
   "version": "3.9.12"
  }
 },
 "nbformat": 4,
 "nbformat_minor": 5
}
