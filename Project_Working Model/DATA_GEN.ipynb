{
 "cells": [
  {
   "cell_type": "code",
   "execution_count": 1,
   "id": "18469486",
   "metadata": {
    "scrolled": true
   },
   "outputs": [
    {
     "name": "stdout",
     "output_type": "stream",
     "text": [
      "{'results': [{'fsq_id': 'e72e2abcd211417b9e320132', 'categories': [{'id': 19055, 'name': 'Travel Agency', 'short_name': 'Travel Agency', 'plural_name': 'Travel Agencies', 'icon': {'prefix': 'https://ss3.4sqi.net/img/categories_v2/travel/travelagency_', 'suffix': '.png'}}], 'chains': [], 'closed_bucket': 'LikelyOpen', 'distance': 2233, 'geocodes': {'drop_off': {'latitude': 40.773637, 'longitude': -73.947747}, 'main': {'latitude': 40.773881, 'longitude': -73.947643}, 'roof': {'latitude': 40.773881, 'longitude': -73.947643}}, 'link': '/v3/places/e72e2abcd211417b9e320132', 'location': {'address': '509 E 83rd St', 'census_block': '360610136042000', 'country': 'US', 'dma': 'New York', 'formatted_address': '509 E 83rd St, New York, NY 10028', 'locality': 'New York', 'postcode': '10028', 'region': 'NY'}, 'name': 'KG Travel Club', 'related_places': {}, 'timezone': 'America/New_York'}, {'fsq_id': '8eaaaf7c343847fd51504a74', 'categories': [{'id': 19055, 'name': 'Travel Agency', 'short_name': 'Travel Agency', 'plural_name': 'Travel Agencies', 'icon': {'prefix': 'https://ss3.4sqi.net/img/categories_v2/travel/travelagency_', 'suffix': '.png'}}], 'chains': [], 'closed_bucket': 'Unsure', 'distance': 2494, 'geocodes': {'main': {'latitude': 40.76357, 'longitude': -73.985957}, 'roof': {'latitude': 40.76357, 'longitude': -73.985957}}, 'link': '/v3/places/8eaaaf7c343847fd51504a74', 'location': {'address': '310 W 52nd St', 'census_block': '360610133002000', 'country': 'US', 'dma': 'New York', 'formatted_address': '310 W 52nd St, New York, NY 10019', 'locality': 'New York', 'postcode': '10019', 'region': 'NY'}, 'name': 'Hotwire', 'related_places': {}, 'timezone': 'America/New_York'}, {'fsq_id': '5851e62ccc5b6a439253748a', 'categories': [{'id': 19055, 'name': 'Travel Agency', 'short_name': 'Travel Agency', 'plural_name': 'Travel Agencies', 'icon': {'prefix': 'https://ss3.4sqi.net/img/categories_v2/travel/travelagency_', 'suffix': '.png'}}], 'chains': [], 'closed_bucket': 'LikelyOpen', 'distance': 2587, 'geocodes': {'main': {'latitude': 40.762041, 'longitude': -73.98463}, 'roof': {'latitude': 40.762041, 'longitude': -73.98463}}, 'link': '/v3/places/5851e62ccc5b6a439253748a', 'location': {'address': '1633 Broadway', 'address_extended': 'Fl 35', 'census_block': '360610131001003', 'country': 'US', 'cross_street': '', 'dma': 'New York', 'formatted_address': '1633 Broadway, New York, NY 10019', 'locality': 'New York', 'postcode': '10019', 'region': 'NY'}, 'name': 'BlueOrange Travel - NYC Travel Agency', 'related_places': {}, 'timezone': 'America/New_York'}, {'fsq_id': 'e276c5a921414424f4adceef', 'categories': [{'id': 19055, 'name': 'Travel Agency', 'short_name': 'Travel Agency', 'plural_name': 'Travel Agencies', 'icon': {'prefix': 'https://ss3.4sqi.net/img/categories_v2/travel/travelagency_', 'suffix': '.png'}}], 'chains': [], 'closed_bucket': 'Unsure', 'distance': 2871, 'geocodes': {'drop_off': {'latitude': 40.757458, 'longitude': -73.971664}, 'main': {'latitude': 40.757219, 'longitude': -73.971336}, 'roof': {'latitude': 40.757219, 'longitude': -73.971336}}, 'link': '/v3/places/e276c5a921414424f4adceef', 'location': {'address': '575 Lexington Ave', 'address_extended': 'Fl 4', 'census_block': '360610100002004', 'country': 'US', 'dma': 'New York', 'formatted_address': '575 Lexington Ave, New York, NY 10022', 'locality': 'New York', 'postcode': '10022', 'region': 'NY'}, 'name': 'Global Travel Concepts', 'related_places': {}, 'timezone': 'America/New_York'}, {'fsq_id': '5ed1916522c84d833ed8fe9b', 'categories': [{'id': 19055, 'name': 'Travel Agency', 'short_name': 'Travel Agency', 'plural_name': 'Travel Agencies', 'icon': {'prefix': 'https://ss3.4sqi.net/img/categories_v2/travel/travelagency_', 'suffix': '.png'}}], 'chains': [], 'closed_bucket': 'LikelyOpen', 'distance': 2955, 'geocodes': {'main': {'latitude': 40.756935, 'longitude': -73.977877}, 'roof': {'latitude': 40.756935, 'longitude': -73.977877}}, 'link': '/v3/places/5ed1916522c84d833ed8fe9b', 'location': {'address': '589 5th Ave', 'address_extended': 'Rm 1208', 'census_block': '360610094001001', 'country': 'US', 'dma': 'New York', 'formatted_address': '589 5th Ave, New York, NY 10017', 'locality': 'New York', 'postcode': '10017', 'region': 'NY'}, 'name': 'Gad International', 'related_places': {}, 'timezone': 'America/New_York'}, {'fsq_id': '57c9afd0498edb271c61bab2', 'categories': [{'id': 19053, 'name': 'Limo Service', 'short_name': 'Limo Service', 'plural_name': 'Limo Services', 'icon': {'prefix': 'https://ss3.4sqi.net/img/categories_v2/travel/taxi_', 'suffix': '.png'}}, {'id': 19055, 'name': 'Travel Agency', 'short_name': 'Travel Agency', 'plural_name': 'Travel Agencies', 'icon': {'prefix': 'https://ss3.4sqi.net/img/categories_v2/travel/travelagency_', 'suffix': '.png'}}], 'chains': [], 'closed_bucket': 'Unsure', 'distance': 3178, 'geocodes': {'drop_off': {'latitude': 40.756925, 'longitude': -73.986968}, 'main': {'latitude': 40.757123, 'longitude': -73.986884}, 'roof': {'latitude': 40.757123, 'longitude': -73.986884}}, 'link': '/v3/places/57c9afd0498edb271c61bab2', 'location': {'address': '211 W 43rd St', 'census_block': '360610119002003', 'country': 'US', 'cross_street': '', 'dma': 'New York', 'formatted_address': '211 W 43rd St, New York, NY 10036', 'locality': 'New York', 'postcode': '10036', 'region': 'NY'}, 'name': 'Empire Limousine', 'related_places': {}, 'timezone': 'America/New_York'}, {'fsq_id': '575f852b498ef56407b49b92', 'categories': [{'id': 19055, 'name': 'Travel Agency', 'short_name': 'Travel Agency', 'plural_name': 'Travel Agencies', 'icon': {'prefix': 'https://ss3.4sqi.net/img/categories_v2/travel/travelagency_', 'suffix': '.png'}}], 'chains': [], 'closed_bucket': 'Unsure', 'distance': 3378, 'geocodes': {'main': {'latitude': 40.755089, 'longitude': -73.98628}, 'roof': {'latitude': 40.755089, 'longitude': -73.98628}}, 'link': '/v3/places/575f852b498ef56407b49b92', 'location': {'address': '1460 Broadway', 'address_extended': 'Frnt 5', 'census_block': '360610113001000', 'country': 'US', 'cross_street': '', 'dma': 'New York', 'formatted_address': '1460 Broadway, New York, NY 10036', 'locality': 'New York', 'postcode': '10036', 'region': 'NY'}, 'name': 'Encore Jets', 'related_places': {}, 'timezone': 'America/New_York'}, {'fsq_id': '9af1f6a91c1943b87aa6d303', 'categories': [{'id': 19055, 'name': 'Travel Agency', 'short_name': 'Travel Agency', 'plural_name': 'Travel Agencies', 'icon': {'prefix': 'https://ss3.4sqi.net/img/categories_v2/travel/travelagency_', 'suffix': '.png'}}], 'chains': [], 'closed_bucket': 'Unsure', 'distance': 3447, 'geocodes': {'main': {'latitude': 40.754073, 'longitude': -73.985934}, 'roof': {'latitude': 40.754073, 'longitude': -73.985934}}, 'link': '/v3/places/9af1f6a91c1943b87aa6d303', 'location': {'address': '119 W 40th St', 'census_block': '360610113001009', 'country': 'US', 'dma': 'New York', 'formatted_address': '119 W 40th St, New York, NY 10018', 'locality': 'New York', 'postcode': '10018', 'region': 'NY'}, 'name': 'Blue Ribbon Bags', 'related_places': {}, 'timezone': 'America/New_York'}, {'fsq_id': '5c1a91ddc9a517002bb44f28', 'categories': [{'id': 19055, 'name': 'Travel Agency', 'short_name': 'Travel Agency', 'plural_name': 'Travel Agencies', 'icon': {'prefix': 'https://ss3.4sqi.net/img/categories_v2/travel/travelagency_', 'suffix': '.png'}}], 'chains': [], 'closed_bucket': 'Unsure', 'distance': 3451, 'geocodes': {'drop_off': {'latitude': 40.751836, 'longitude': -73.969067}, 'main': {'latitude': 40.752103, 'longitude': -73.968953}, 'roof': {'latitude': 40.752103, 'longitude': -73.968953}}, 'link': '/v3/places/5c1a91ddc9a517002bb44f28', 'location': {'address': '333 E 46th St', 'address_extended': 'Apt 1D', 'census_block': '360610090003001', 'country': 'US', 'cross_street': '', 'dma': 'New York', 'formatted_address': '333 E 46th St, New York, NY 10017', 'locality': 'New York', 'postcode': '10017', 'region': 'NY'}, 'name': 'VaccationTravel', 'related_places': {}, 'timezone': 'America/New_York'}, {'fsq_id': '4c51bac89d642d7f52d015de', 'categories': [{'id': 19055, 'name': 'Travel Agency', 'short_name': 'Travel Agency', 'plural_name': 'Travel Agencies', 'icon': {'prefix': 'https://ss3.4sqi.net/img/categories_v2/travel/travelagency_', 'suffix': '.png'}}], 'chains': [], 'closed_bucket': 'Unsure', 'distance': 3619, 'geocodes': {'main': {'latitude': 40.751265, 'longitude': -73.980015}, 'roof': {'latitude': 40.751265, 'longitude': -73.980015}}, 'link': '/v3/places/4c51bac89d642d7f52d015de', 'location': {'address': '275 Madison Ave', 'address_extended': 'Ste 2314', 'census_block': '360610082001000', 'country': 'US', 'cross_street': '40th Street', 'dma': 'New York', 'formatted_address': '275 Madison Ave (40th Street), New York, NY 10016', 'locality': 'New York', 'postcode': '10016', 'region': 'NY'}, 'name': 'Classic Travel', 'related_places': {}, 'timezone': 'America/New_York'}], 'context': {'geo_bounds': {'circle': {'center': {'latitude': 40.783058, 'longitude': -73.971252}, 'radius': 22000}}}}\n",
      "Number of elements in the response array: 10\n"
     ]
    },
    {
     "name": "stdout",
     "output_type": "stream",
     "text": [
      "{'results': [{'fsq_id': '553f30a8498edf5cebec7dca', 'categories': [{'id': 17044, 'name': 'Fashion Accessories Store', 'short_name': 'Fashion Accessories Store', 'plural_name': 'Fashion Accessories Stores', 'icon': {'prefix': 'https://ss3.4sqi.net/img/categories_v2/shops/apparel_accessories_', 'suffix': '.png'}}, {'id': 17045, 'name': 'Jewelry Store', 'short_name': 'Jewelry', 'plural_name': 'Jewelry Stores', 'icon': {'prefix': 'https://ss3.4sqi.net/img/categories_v2/shops/jewelry_', 'suffix': '.png'}}], 'chains': [], 'closed_bucket': 'Unsure', 'distance': 1913, 'geocodes': {'main': {'latitude': 40.76737, 'longitude': -73.981125}, 'roof': {'latitude': 40.76737, 'longitude': -73.981125}}, 'link': '/v3/places/553f30a8498edf5cebec7dca', 'location': {'address': '240 Central Park S', 'census_block': '360610137004000', 'country': 'US', 'cross_street': 'Broadway - 7th Ave', 'dma': 'New York', 'formatted_address': '240 Central Park S (Broadway - 7th Ave), New York, NY 10019', 'locality': 'New York', 'postcode': '10019', 'region': 'NY'}, 'name': 'Jane A. Gordon', 'related_places': {}, 'timezone': 'America/New_York'}, {'fsq_id': '59e8dea21bc704679af95899', 'categories': [{'id': 10027, 'name': 'Museum', 'short_name': 'Museum', 'plural_name': 'Museums', 'icon': {'prefix': 'https://ss3.4sqi.net/img/categories_v2/arts_entertainment/museum_', 'suffix': '.png'}}], 'chains': [], 'closed_bucket': 'LikelyOpen', 'distance': 2220, 'geocodes': {'main': {'latitude': 40.765198, 'longitude': -73.983618}, 'roof': {'latitude': 40.765198, 'longitude': -73.983618}}, 'link': '/v3/places/59e8dea21bc704679af95899', 'location': {'address': '928 8th Ave', 'census_block': '360610137006002', 'country': 'US', 'cross_street': 'at 55th St', 'dma': 'New York', 'formatted_address': '928 8th Ave (at 55th St), New York, NY 10019', 'locality': 'New York', 'postcode': '10019', 'region': 'NY'}, 'name': 'Spyscape', 'related_places': {'children': []}, 'timezone': 'America/New_York'}, {'fsq_id': '4ac8f0cef964a52071bd20e3', 'categories': [{'id': 10004, 'name': 'Art Gallery', 'short_name': 'Art Gallery', 'plural_name': 'Art Galleries', 'icon': {'prefix': 'https://ss3.4sqi.net/img/categories_v2/arts_entertainment/artgallery_', 'suffix': '.png'}}], 'chains': [], 'closed_bucket': 'LikelyOpen', 'distance': 6789, 'geocodes': {'main': {'latitude': 40.726021, 'longitude': -73.999809}, 'roof': {'latitude': 40.726021, 'longitude': -73.999809}}, 'link': '/v3/places/4ac8f0cef964a52071bd20e3', 'location': {'address': '141 Wooster St', 'census_block': '360610049001000', 'country': 'US', 'cross_street': 'btw Prince St and Houston St', 'dma': 'New York', 'formatted_address': '141 Wooster St (btw Prince St and Houston St), New York, NY 10012', 'locality': 'New York', 'postcode': '10012', 'region': 'NY'}, 'name': 'The New York Earth Room', 'related_places': {}, 'timezone': 'America/New_York'}, {'fsq_id': '4c1961b0838020a142ade561', 'categories': [{'id': 10030, 'name': 'History Museum', 'short_name': 'History Museum', 'plural_name': 'History Museums', 'icon': {'prefix': 'https://ss3.4sqi.net/img/categories_v2/arts_entertainment/museum_history_', 'suffix': '.png'}}], 'chains': [], 'closed_bucket': 'Unsure', 'distance': 7194, 'geocodes': {'drop_off': {'latitude': 40.743503, 'longitude': -74.038758}, 'main': {'latitude': 40.743464, 'longitude': -74.038625}, 'roof': {'latitude': 40.743464, 'longitude': -74.038625}}, 'link': '/v3/places/4c1961b0838020a142ade561', 'location': {'address': '415 Monroe St', 'census_block': '340170190002001', 'country': 'US', 'cross_street': 'Between 4th & 5th Street', 'dma': 'New York', 'formatted_address': '415 Monroe St (Between 4th & 5th Street), Hoboken, NJ 07030', 'locality': 'Hoboken', 'postcode': '07030', 'region': 'NJ'}, 'name': \"Franks Sinatra's Birthplace\", 'related_places': {}, 'timezone': 'America/New_York'}, {'fsq_id': '5ba3d9a889b06a002c320338', 'categories': [{'id': 12047, 'name': 'Student Center', 'short_name': 'Student Center', 'plural_name': 'Student Centers', 'icon': {'prefix': 'https://ss3.4sqi.net/img/categories_v2/education/studentcenter_', 'suffix': '.png'}}], 'chains': [], 'closed_bucket': 'Unsure', 'distance': 16143, 'geocodes': {'drop_off': {'latitude': 40.638702, 'longitude': -73.95019}, 'main': {'latitude': 40.638671, 'longitude': -73.950481}, 'roof': {'latitude': 40.638671, 'longitude': -73.950481}}, 'link': '/v3/places/5ba3d9a889b06a002c320338', 'location': {'address': '490 E 28th St', 'census_block': '360470828002002', 'country': 'US', 'cross_street': '', 'dma': 'New York', 'formatted_address': '490 E 28th St, Brooklyn, NY 11226', 'locality': 'Brooklyn', 'postcode': '11226', 'region': 'NY'}, 'name': 'Tour for Tolerance', 'related_places': {}, 'timezone': 'America/New_York'}, {'fsq_id': '4e8388560cd6b52744838b6f', 'categories': [{'id': 12080, 'name': 'Library', 'short_name': 'Library', 'plural_name': 'Libraries', 'icon': {'prefix': 'https://ss3.4sqi.net/img/categories_v2/building/library_', 'suffix': '.png'}}, {'id': 12086, 'name': 'Non-Profit Organization', 'short_name': 'Non-Profit Organization', 'plural_name': 'Non-Profit Organizations', 'icon': {'prefix': 'https://ss3.4sqi.net/img/categories_v2/building/default_', 'suffix': '.png'}}, {'id': 19000, 'name': 'Travel and Transportation', 'short_name': 'Travel and Transportation', 'plural_name': 'Travel and Transportation', 'icon': {'prefix': 'https://ss3.4sqi.net/img/categories_v2/travel/default_', 'suffix': '.png'}}], 'chains': [], 'closed_bucket': 'VeryLikelyOpen', 'distance': 19020, 'geocodes': {'main': {'latitude': 40.643975, 'longitude': -74.102698}, 'roof': {'latitude': 40.643975, 'longitude': -74.102698}}, 'link': '/v3/places/4e8388560cd6b52744838b6f', 'location': {'address': '1000 Richmond Ter', 'census_block': '360850097021001', 'country': 'US', 'cross_street': 'Building H', 'dma': 'New York', 'formatted_address': '1000 Richmond Ter (Building H), Staten Island, NY 10301', 'locality': 'Staten Island', 'postcode': '10301', 'region': 'NY'}, 'name': 'Staten Island Museum History Archives & Library', 'related_places': {}, 'timezone': 'America/New_York'}], 'context': {'geo_bounds': {'circle': {'center': {'latitude': 40.783058, 'longitude': -73.971252}, 'radius': 22000}}}}\n",
      "Number of elements in the response array: 6\n",
      "{'results': [{'fsq_id': '3fd66200f964a5202fe81ee3', 'categories': [{'id': 13058, 'name': 'Hot Dog Joint', 'short_name': 'Hot Dogs', 'plural_name': 'Hot Dog Joints', 'icon': {'prefix': 'https://ss3.4sqi.net/img/categories_v2/food/hotdog_', 'suffix': '.png'}}, {'id': 13145, 'name': 'Fast Food Restaurant', 'short_name': 'Fast Food', 'plural_name': 'Fast Food Restaurants', 'icon': {'prefix': 'https://ss3.4sqi.net/img/categories_v2/food/fastfood_', 'suffix': '.png'}}], 'chains': [], 'closed_bucket': 'Unsure', 'distance': 1007, 'geocodes': {'main': {'latitude': 40.778368, 'longitude': -73.981555}, 'roof': {'latitude': 40.778368, 'longitude': -73.981555}}, 'link': '/v3/places/3fd66200f964a5202fe81ee3', 'location': {'address': '2090 Broadway', 'address_extended': 'Ste 1', 'census_block': '360610157007000', 'country': 'US', 'cross_street': 'at W 72nd St', 'dma': 'New York', 'formatted_address': '2090 Broadway (at W 72nd St), New York, NY 10023', 'locality': 'New York', 'postcode': '10023', 'region': 'NY'}, 'name': \"Gray's Papaya\", 'related_places': {}, 'timezone': 'America/New_York'}, {'fsq_id': '5b592d9bde3bbf0039c7d8ea', 'categories': [{'id': 13148, 'name': 'French Restaurant', 'short_name': 'French', 'plural_name': 'French Restaurants', 'icon': {'prefix': 'https://ss3.4sqi.net/img/categories_v2/food/french_', 'suffix': '.png'}}], 'chains': [], 'closed_bucket': 'LikelyOpen', 'distance': 1959, 'geocodes': {'drop_off': {'latitude': 40.765256, 'longitude': -73.969544}, 'main': {'latitude': 40.765526, 'longitude': -73.969431}, 'roof': {'latitude': 40.765526, 'longitude': -73.969431}}, 'link': '/v3/places/5b592d9bde3bbf0039c7d8ea', 'location': {'address': '27 E 62nd St', 'census_block': '360610114011000', 'country': 'US', 'cross_street': '', 'formatted_address': '27 E 62nd St, New York, NY 10065', 'locality': 'New York', 'postcode': '10065', 'region': 'NY'}, 'name': 'Fleming by Le Bilboquet', 'related_places': {}, 'timezone': 'America/New_York'}, {'fsq_id': '4ed825e98231efe38cad7306', 'categories': [{'id': 13303, 'name': 'Mexican Restaurant', 'short_name': 'Mexican', 'plural_name': 'Mexican Restaurants', 'icon': {'prefix': 'https://ss3.4sqi.net/img/categories_v2/food/mexican_', 'suffix': '.png'}}], 'chains': [], 'closed_bucket': 'Unsure', 'distance': 2153, 'geocodes': {'drop_off': {'latitude': 40.790515, 'longitude': -73.94754}, 'main': {'latitude': 40.790613, 'longitude': -73.947674}, 'roof': {'latitude': 40.790613, 'longitude': -73.947674}}, 'link': '/v3/places/4ed825e98231efe38cad7306', 'location': {'address': '1634 Lexington Ave', 'census_block': '360610166005001', 'country': 'US', 'cross_street': '103rd Street', 'dma': 'New York', 'formatted_address': '1634 Lexington Ave (103rd Street), New York, NY 10029', 'locality': 'New York', 'postcode': '10029', 'region': 'NY'}, 'name': 'El Aguila', 'related_places': {}, 'timezone': 'America/New_York'}, {'fsq_id': '596f977c178a2a6534433e66', 'categories': [{'id': 13009, 'name': 'Cocktail Bar', 'short_name': 'Cocktail', 'plural_name': 'Cocktail Bars', 'icon': {'prefix': 'https://ss3.4sqi.net/img/categories_v2/nightlife/cocktails_', 'suffix': '.png'}}, {'id': 13145, 'name': 'Fast Food Restaurant', 'short_name': 'Fast Food', 'plural_name': 'Fast Food Restaurants', 'icon': {'prefix': 'https://ss3.4sqi.net/img/categories_v2/food/fastfood_', 'suffix': '.png'}}, {'id': 13303, 'name': 'Mexican Restaurant', 'short_name': 'Mexican', 'plural_name': 'Mexican Restaurants', 'icon': {'prefix': 'https://ss3.4sqi.net/img/categories_v2/food/mexican_', 'suffix': '.png'}}], 'chains': [], 'closed_bucket': 'Unsure', 'distance': 2226, 'geocodes': {'main': {'latitude': 40.764939, 'longitude': -73.983214}, 'roof': {'latitude': 40.764939, 'longitude': -73.983214}}, 'link': '/v3/places/596f977c178a2a6534433e66', 'location': {'address': '248 W 55th St', 'census_block': '360610137006002', 'country': 'US', 'cross_street': '', 'dma': 'New York', 'formatted_address': '248 W 55th St, New York, NY 10019', 'locality': 'New York', 'postcode': '10019', 'region': 'NY'}, 'name': 'Vida Verde', 'related_places': {}, 'timezone': 'America/New_York'}, {'fsq_id': '4a453e4cf964a520f1a71fe3', 'categories': [{'id': 13133, 'name': 'Colombian Restaurant', 'short_name': 'Colombian', 'plural_name': 'Colombian Restaurants', 'icon': {'prefix': 'https://ss3.4sqi.net/img/categories_v2/food/argentinian_', 'suffix': '.png'}}, {'id': 13141, 'name': 'Empanada Restaurant', 'short_name': 'Empanada', 'plural_name': 'Empanada Restaurants', 'icon': {'prefix': 'https://ss3.4sqi.net/img/categories_v2/food/latinamerican_', 'suffix': '.png'}}, {'id': 13303, 'name': 'Mexican Restaurant', 'short_name': 'Mexican', 'plural_name': 'Mexican Restaurants', 'icon': {'prefix': 'https://ss3.4sqi.net/img/categories_v2/food/mexican_', 'suffix': '.png'}}], 'chains': [], 'closed_bucket': 'Unsure', 'distance': 2533, 'geocodes': {'main': {'latitude': 40.764419, 'longitude': -73.988481}, 'roof': {'latitude': 40.764419, 'longitude': -73.988481}}, 'link': '/v3/places/4a453e4cf964a520f1a71fe3', 'location': {'address': '765 9th Ave', 'address_extended': 'Frnt 1', 'census_block': '360610133003000', 'country': 'US', 'cross_street': 'btwn 51st & 52nd St', 'dma': 'New York', 'formatted_address': '765 9th Ave (btwn 51st & 52nd St), New York, NY 10019', 'locality': 'New York', 'postcode': '10019', 'region': 'NY'}, 'name': 'Empanada Mama', 'related_places': {}, 'timezone': 'America/New_York'}, {'fsq_id': '4bfc0f7ed6f2c9b6b9a64ec8', 'categories': [{'id': 13001, 'name': 'Bagel Shop', 'short_name': 'Bagels', 'plural_name': 'Bagel Shops', 'icon': {'prefix': 'https://ss3.4sqi.net/img/categories_v2/food/bagels_', 'suffix': '.png'}}, {'id': 13039, 'name': 'Deli', 'short_name': 'Deli', 'plural_name': 'Delis', 'icon': {'prefix': 'https://ss3.4sqi.net/img/categories_v2/food/deli_', 'suffix': '.png'}}, {'id': 13334, 'name': 'Sandwich Spot', 'short_name': 'Sandwich Spot', 'plural_name': 'Sandwich Spots', 'icon': {'prefix': 'https://ss3.4sqi.net/img/categories_v2/food/deli_', 'suffix': '.png'}}], 'chains': [], 'closed_bucket': 'Unsure', 'distance': 2726, 'geocodes': {'drop_off': {'latitude': 40.75946, 'longitude': -73.962268}, 'main': {'latitude': 40.759511, 'longitude': -73.962338}, 'roof': {'latitude': 40.759511, 'longitude': -73.962338}}, 'link': '/v3/places/4bfc0f7ed6f2c9b6b9a64ec8', 'location': {'address': '1075 1st Ave', 'address_extended': 'Frnt 1', 'census_block': '360610108021000', 'country': 'US', 'cross_street': 'E 59th St', 'dma': 'New York', 'formatted_address': '1075 1st Ave (E 59th St), New York, NY 10022', 'locality': 'New York', 'postcode': '10022', 'region': 'NY'}, 'name': 'Blue & Gold Deli', 'related_places': {}, 'timezone': 'America/New_York'}, {'fsq_id': '57196183498efeaaa4043f3c', 'categories': [{'id': 13009, 'name': 'Cocktail Bar', 'short_name': 'Cocktail', 'plural_name': 'Cocktail Bars', 'icon': {'prefix': 'https://ss3.4sqi.net/img/categories_v2/nightlife/cocktails_', 'suffix': '.png'}}, {'id': 13057, 'name': 'Gastropub', 'short_name': 'Gastropub', 'plural_name': 'Gastropubs', 'icon': {'prefix': 'https://ss3.4sqi.net/img/categories_v2/food/gastropub_', 'suffix': '.png'}}, {'id': 13314, 'name': 'New American Restaurant', 'short_name': 'New American', 'plural_name': 'New American Restaurants', 'icon': {'prefix': 'https://ss3.4sqi.net/img/categories_v2/food/newamerican_', 'suffix': '.png'}}], 'chains': [], 'closed_bucket': 'Unsure', 'distance': 2852, 'geocodes': {'drop_off': {'latitude': 40.760601, 'longitude': -73.987932}, 'main': {'latitude': 40.760875, 'longitude': -73.987817}, 'roof': {'latitude': 40.760875, 'longitude': -73.987817}}, 'link': '/v3/places/57196183498efeaaa4043f3c', 'location': {'address': '307 W 47th St', 'census_block': '360610127002000', 'country': 'US', 'cross_street': 'btwn 8th Ave & 9th Ave', 'dma': 'New York', 'formatted_address': '307 W 47th St (btwn 8th Ave & 9th Ave), New York, NY 10036', 'locality': 'New York', 'postcode': '10036', 'region': 'NY'}, 'name': \"Dutch Fred's\", 'related_places': {}, 'timezone': 'America/New_York'}, {'fsq_id': '59d649f96bd36b7a7d994175', 'categories': [{'id': 13068, 'name': 'American Restaurant', 'short_name': 'American', 'plural_name': 'American Restaurants', 'icon': {'prefix': 'https://ss3.4sqi.net/img/categories_v2/food/default_', 'suffix': '.png'}}], 'chains': [], 'closed_bucket': 'Unsure', 'distance': 2956, 'geocodes': {'drop_off': {'latitude': 40.760752, 'longitude': -73.990204}, 'main': {'latitude': 40.760538, 'longitude': -73.990294}, 'roof': {'latitude': 40.760538, 'longitude': -73.990294}}, 'link': '/v3/places/59d649f96bd36b7a7d994175', 'location': {'address': '364 W 46th St', 'census_block': '360610121012000', 'country': 'US', 'cross_street': '46th st and 9th ave', 'dma': 'New York', 'formatted_address': '364 W 46th St (46th st and 9th ave), New York, NY 10036', 'locality': 'New York', 'postcode': '10036', 'region': 'NY'}, 'name': 'Hold Fast Kitchen and Spirits', 'related_places': {}, 'timezone': 'America/New_York'}, {'fsq_id': '4af30de2f964a52026ea21e3', 'categories': [{'id': 13039, 'name': 'Deli', 'short_name': 'Deli', 'plural_name': 'Delis', 'icon': {'prefix': 'https://ss3.4sqi.net/img/categories_v2/food/deli_', 'suffix': '.png'}}], 'chains': [], 'closed_bucket': 'Unsure', 'distance': 3014, 'geocodes': {'drop_off': {'latitude': 40.761981, 'longitude': -73.993756}, 'main': {'latitude': 40.761852, 'longitude': -73.993579}, 'roof': {'latitude': 40.761852, 'longitude': -73.993579}}, 'link': '/v3/places/4af30de2f964a52026ea21e3', 'location': {'address': '648 10th Ave', 'census_block': '360610121024000', 'country': 'US', 'cross_street': '46th', 'dma': 'New York', 'formatted_address': '648 10th Ave (46th), New York, NY 10036', 'locality': 'New York', 'postcode': '10036', 'region': 'NY'}, 'name': 'Clinton Gourmet Market', 'related_places': {}, 'timezone': 'America/New_York'}, {'fsq_id': '506e48ffe4b078ebe1c30a29', 'categories': [{'id': 13025, 'name': 'Wine Bar', 'short_name': 'Wine Bar', 'plural_name': 'Wine Bars', 'icon': {'prefix': 'https://ss3.4sqi.net/img/categories_v2/food/winery_', 'suffix': '.png'}}, {'id': 13236, 'name': 'Italian Restaurant', 'short_name': 'Italian', 'plural_name': 'Italian Restaurants', 'icon': {'prefix': 'https://ss3.4sqi.net/img/categories_v2/food/italian_', 'suffix': '.png'}}], 'chains': [], 'closed_bucket': 'Unsure', 'distance': 3054, 'geocodes': {'main': {'latitude': 40.760235, 'longitude': -73.991549}, 'roof': {'latitude': 40.760235, 'longitude': -73.991549}}, 'link': '/v3/places/506e48ffe4b078ebe1c30a29', 'location': {'address': '635 9th Ave', 'census_block': '360610121023000', 'country': 'US', 'cross_street': 'btwn W 44th & W 45th St', 'dma': 'New York', 'formatted_address': '635 9th Ave (btwn W 44th & W 45th St), New York, NY 10036', 'locality': 'New York', 'postcode': '10036', 'region': 'NY'}, 'name': 'Bocca Di Bacco', 'related_places': {}, 'timezone': 'America/New_York'}], 'context': {'geo_bounds': {'circle': {'center': {'latitude': 40.783058, 'longitude': -73.971252}, 'radius': 22000}}}}\n",
      "Number of elements in the response array: 10\n"
     ]
    }
   ],
   "source": [
    "import requests\n",
    "import csv\n",
    "from haversine import haversine, Unit\n",
    "\n",
    "\n",
    "# Sample list of places entered by the user\n",
    "places = [\"Travel Agency\", \"Museum\", \"Restaurant\"]\n",
    "\n",
    "url = \"https://api.foursquare.com/v3/places/search\"\n",
    "\n",
    "# User's latitude and longitude\n",
    "user_lat = 40.783058\n",
    "user_lon = -73.971252\n",
    "\n",
    "# Loop over each place in the list\n",
    "for place in places:\n",
    "    params = {\n",
    "        \"query\": place,\n",
    "        \"ll\": f\"{user_lat},{user_lon}\",\n",
    "        \"open_now\": \"true\",\n",
    "        \"sort\": \"DISTANCE\"\n",
    "    }\n",
    "\n",
    "    headers = {\n",
    "        \"Accept\": \"application/json\",\n",
    "        \"Authorization\": \"fsq38VO0GeyC+Ebicj6/shufS1vd6pPnEVYa4+L48jSJq1k=\"\n",
    "    }\n",
    "\n",
    "    response = requests.request(\"GET\", url, params=params, headers=headers)\n",
    "\n",
    "    if response.status_code == 200:\n",
    "        data = response.json()\n",
    "        print(data)\n",
    "        print(f\"Number of elements in the response array: {len(data['results'])}\")\n",
    "\n",
    "        # Create a list to store the sorted results\n",
    "        sorted_results = []\n",
    "        for result in data['results']:\n",
    "            fsq_id = result.get('fsq_id', 'fsq_id not available')\n",
    "            name = result.get('name', 'Name not available')\n",
    "            formatted_address = result['location'].get('formatted_address', 'Address not available')\n",
    "            latitude = result['geocodes']['main'].get('latitude', 'Latitude not available')\n",
    "            longitude = result['geocodes']['main'].get('longitude', 'Longitude not available')\n",
    "            category_id = result['categories'][0].get('id', 'Category ID not available') if result.get('categories') else ''\n",
    "            # Calculate the distance using Haversine formula\n",
    "            distance = haversine((user_lat, user_lon), (float(latitude), float(longitude)))\n",
    "            sorted_results.append({'fsq Id': fsq_id, 'Name': name, 'Address': formatted_address, 'Latitude': latitude, 'Longitude': longitude, 'Category ID': category_id, 'Distance': distance})\n",
    "\n",
    "        # Write the sorted results to a CSV file\n",
    "        file_name = f\"POI_{place.replace(' ', '_')}.csv\"\n",
    "        with open(file_name, mode='w', newline='') as file:\n",
    "            writer = csv.DictWriter(file, fieldnames=['fsq Id', 'Name', 'Address', 'Latitude', 'Longitude', 'Category ID', 'Distance'])\n",
    "            writer.writeheader()\n",
    "            for place in sorted_results:\n",
    "                writer.writerow(place)\n",
    "    else:\n",
    "        print(f\"Failed to retrieve data for {place} from the API\")\n"
   ]
  },
  {
   "cell_type": "code",
   "execution_count": null,
   "id": "af8b8dae",
   "metadata": {},
   "outputs": [],
   "source": []
  },
  {
   "cell_type": "code",
   "execution_count": 2,
   "id": "7c743cfc",
   "metadata": {},
   "outputs": [
    {
     "name": "stdout",
     "output_type": "stream",
     "text": [
      "{'results': [{'popularity': 0.6082043504456403, 'website': 'http://kgtravelclub.com'}, {'popularity': 0.43061932561859845, 'website': 'https://www.hotwire.com/New-York-Hotels.d178293.Travel-Guide-Hotels'}, {'popularity': 0.10808592857291255, 'website': 'https://blueorangetravel.com'}, {'popularity': 0.06387925124135209, 'website': 'http://www.globaltravelconceptsnyc.com'}, {'popularity': 0.12681943780774105, 'website': 'https://www.gadrealty.com'}, {'popularity': 0.48458853593168927, 'website': 'http://www.empirelimousine.net'}, {'popularity': 0.46661126462094615, 'website': 'http://www.encorejets.com'}, {'popularity': 0.7854839714956475, 'website': 'http://www.blueribbonbags.com'}, {'popularity': 0.4393493029730123, 'website': 'https://www.vaccationtravel.com'}, {'popularity': 0.6820601250701183, 'website': 'http://www.classictravel.com'}], 'context': {'geo_bounds': {'circle': {'center': {'latitude': 40.783058, 'longitude': -73.971252}, 'radius': 22000}}}}\n",
      "Number of elements in the response array: 10\n",
      "{'results': [{'popularity': 0.11679097500675212, 'website': 'http://www.janegordon.com'}, {'popularity': 0.9897907880248478, 'rating': 8.1, 'stats': {'total_photos': 147, 'total_ratings': 97, 'total_tips': 15}, 'website': 'http://spyscape.com'}, {'popularity': 0.9756300251386782, 'rating': 7.9, 'stats': {'total_photos': 59, 'total_ratings': 160, 'total_tips': 36}, 'website': 'http://www.earthroom.org'}, {'popularity': 0.9889554794520548, 'rating': 6.6, 'stats': {'total_photos': 28, 'total_ratings': 19, 'total_tips': 3}}, {'popularity': 0.7696636425881548, 'website': 'https://tourfortolerance.org'}, {'popularity': 0.9062284214887446, 'website': 'http://statenislandmuseum.org'}], 'context': {'geo_bounds': {'circle': {'center': {'latitude': 40.783058, 'longitude': -73.971252}, 'radius': 22000}}}}\n",
      "Number of elements in the response array: 6\n",
      "{'results': [{'popularity': 0.9990858662456111, 'price': 1, 'rating': 8.1, 'stats': {'total_photos': 984, 'total_ratings': 904, 'total_tips': 245}, 'website': 'http://www.grayspapaya.com'}, {'popularity': 0.9730995367003926, 'price': 3, 'rating': 8.1, 'stats': {'total_photos': 13, 'total_ratings': 11}, 'website': 'http://flemingbylebilboquet.com'}, {'popularity': 0.9978829493279039, 'price': 1, 'rating': 8.1, 'stats': {'total_photos': 90, 'total_ratings': 116, 'total_tips': 31}, 'website': 'http://elaguilanewyorkrestaurant.com/web_eng'}, {'popularity': 0.9898925892838593, 'price': 1, 'rating': 8.1, 'stats': {'total_photos': 148, 'total_ratings': 154, 'total_tips': 24}, 'website': 'http://vidaverdeny.com'}, {'popularity': 0.9943967756009391, 'price': 2, 'rating': 8.9, 'stats': {'total_photos': 642, 'total_ratings': 1138, 'total_tips': 384}, 'website': 'https://www.empmamanyc.com'}, {'popularity': 0.9856854964369559, 'price': 1, 'rating': 8.4, 'stats': {'total_photos': 2, 'total_ratings': 8, 'total_tips': 2}}, {'popularity': 0.9958656223381048, 'price': 3, 'rating': 8.5, 'stats': {'total_photos': 244, 'total_ratings': 320, 'total_tips': 39}, 'website': 'http://dutchfreds.com'}, {'popularity': 0.9804790891903683, 'price': 2, 'rating': 8.9, 'stats': {'total_photos': 93, 'total_ratings': 71, 'total_tips': 7}, 'website': 'https://www.holdfastnyc.com'}, {'popularity': 0.9727193401616354, 'price': 1, 'rating': 8.0, 'stats': {'total_photos': 16, 'total_ratings': 21, 'total_tips': 7}, 'website': 'https://www.beermenus.com/places/21365-clinton-gourmet-corp'}, {'popularity': 0.9755843184509588, 'price': 3, 'rating': 8.0, 'stats': {'total_photos': 119, 'total_ratings': 161, 'total_tips': 38}, 'website': 'http://nycrg.com/bocca-di-bacco'}], 'context': {'geo_bounds': {'circle': {'center': {'latitude': 40.783058, 'longitude': -73.971252}, 'radius': 22000}}}}\n",
      "Number of elements in the response array: 10\n"
     ]
    }
   ],
   "source": [
    "url = \"https://api.foursquare.com/v3/places/search\"\n",
    "import random\n",
    "random.seed(42)\n",
    "\n",
    "# Loop over each place in the list\n",
    "for place in places:\n",
    "    params = {\n",
    "        \"query\": place,\n",
    "        \"ll\": \"40.783058,-73.971252\",\n",
    "        \"open_now\": \"true\",\n",
    "        \"sort\": \"DISTANCE\",\n",
    "        \"fields\": \"website,rating,popularity,stats,price\"\n",
    "    }\n",
    "\n",
    "    headers = {\n",
    "        \"Accept\": \"application/json\",\n",
    "        \"Authorization\": \"fsq38VO0GeyC+Ebicj6/shufS1vd6pPnEVYa4+L48jSJq1k=\"\n",
    "    }\n",
    "\n",
    "    response = requests.request(\"GET\", url, params=params, headers=headers)\n",
    "\n",
    "    if response.status_code == 200:\n",
    "        data = response.json()\n",
    "        print(data)\n",
    "        print(f\"Number of elements in the response array: {len(data['results'])}\")\n",
    "\n",
    "        # Create a list to store the sorted results\n",
    "        sorted_results = []\n",
    "        for result in data['results']:\n",
    "            popularity = result.get('popularity', '')                                                                                  or random.randint(0, 1)  # Use random value if popularity is missing\n",
    "            rating = result.get('rating', '')                                                                                          or round(random.uniform(6, 10), 1)  # Use random value if rating is missing\n",
    "            total_ratings = result.get('stats', {}).get('total_ratings', '')                                                           or random.randint(0, 1000)            \n",
    "            website = result.get('website', '')\n",
    "            price = random.randint(40, 240)  # Always fill with a random value between 80 and 500\n",
    "            sorted_results.append({'Popularity': popularity, 'Ratings': rating, 'Total Ratings': total_ratings,'Price($)': price, 'Website': website, })\n",
    "\n",
    "        # Write the sorted results to a CSV file\n",
    "        file_name = f\"POI_details_{place.replace(' ', '_')}.csv\"\n",
    "        with open(file_name, mode='w', newline='') as file:\n",
    "            writer = csv.DictWriter(file, fieldnames=['Popularity', 'Ratings', 'Total Ratings', 'Price($)', 'Website'])\n",
    "            writer.writeheader()\n",
    "            for place in sorted_results:\n",
    "                writer.writerow(place)\n",
    "    else:\n",
    "        print(f\"Failed to retrieve data for {place} from the API\")\n"
   ]
  },
  {
   "cell_type": "code",
   "execution_count": null,
   "id": "ad7c5c8c",
   "metadata": {},
   "outputs": [],
   "source": []
  },
  {
   "cell_type": "code",
   "execution_count": 3,
   "id": "476ea0eb",
   "metadata": {},
   "outputs": [],
   "source": [
    "# Loop over each place in the list\n",
    "for place in places:\n",
    "    # Open the first CSV file and read its contents\n",
    "    with open(f'POI_{place.replace(\" \", \"_\")}.csv', mode='r') as file1:\n",
    "        reader1 = csv.DictReader(file1)\n",
    "        data1 = list(reader1)\n",
    "\n",
    "    # Open the second CSV file and read its contents\n",
    "    with open(f'POI_details_{place.replace(\" \", \"_\")}.csv', mode='r') as file2:\n",
    "        reader2 = csv.DictReader(file2)\n",
    "        data2 = list(reader2)\n",
    "\n",
    "    # Combine the rows from both CSV files row-wise\n",
    "    combined_data = []\n",
    "    for row1, row2 in zip(data1, data2):\n",
    "        combined_row = {**row1, **row2}  # Merge the two dictionaries\n",
    "        combined_data.append(combined_row)\n",
    "\n",
    "    # Write the combined data to a new CSV file\n",
    "    file_name = f'POI_FINAL_{place.replace(\" \", \"_\")}.csv'\n",
    "    with open(file_name, mode='w', newline='') as file:\n",
    "        fieldnames = list(data1[0].keys()) + list(data2[0].keys())  # Combine the fieldnames\n",
    "        writer = csv.DictWriter(file, fieldnames=fieldnames)\n",
    "        writer.writeheader()\n",
    "        for row in combined_data:\n",
    "            writer.writerow(row)"
   ]
  },
  {
   "cell_type": "code",
   "execution_count": null,
   "id": "68d4b183",
   "metadata": {},
   "outputs": [],
   "source": []
  }
 ],
 "metadata": {
  "kernelspec": {
   "display_name": "Python 3 (ipykernel)",
   "language": "python",
   "name": "python3"
  },
  "language_info": {
   "codemirror_mode": {
    "name": "ipython",
    "version": 3
   },
   "file_extension": ".py",
   "mimetype": "text/x-python",
   "name": "python",
   "nbconvert_exporter": "python",
   "pygments_lexer": "ipython3",
   "version": "3.9.12"
  }
 },
 "nbformat": 4,
 "nbformat_minor": 5
}
