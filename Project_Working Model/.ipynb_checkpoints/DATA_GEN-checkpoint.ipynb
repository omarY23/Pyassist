{
 "cells": [
  {
   "cell_type": "code",
   "execution_count": 3,
   "id": "1bb1ede3",
   "metadata": {
    "scrolled": true
   },
   "outputs": [
    {
     "name": "stdout",
     "output_type": "stream",
     "text": [
      "{'results': [{'fsq_id': 'e72e2abcd211417b9e320132', 'categories': [{'id': 19055, 'name': 'Travel Agency', 'short_name': 'Travel Agency', 'plural_name': 'Travel Agencies', 'icon': {'prefix': 'https://ss3.4sqi.net/img/categories_v2/travel/travelagency_', 'suffix': '.png'}}], 'chains': [], 'closed_bucket': 'LikelyOpen', 'distance': 2233, 'geocodes': {'drop_off': {'latitude': 40.773637, 'longitude': -73.947747}, 'main': {'latitude': 40.773881, 'longitude': -73.947643}, 'roof': {'latitude': 40.773881, 'longitude': -73.947643}}, 'link': '/v3/places/e72e2abcd211417b9e320132', 'location': {'address': '509 E 83rd St', 'census_block': '360610136042000', 'country': 'US', 'dma': 'New York', 'formatted_address': '509 E 83rd St, New York, NY 10028', 'locality': 'New York', 'postcode': '10028', 'region': 'NY'}, 'name': 'KG Travel Club', 'related_places': {}, 'timezone': 'America/New_York'}, {'fsq_id': '8eaaaf7c343847fd51504a74', 'categories': [{'id': 19055, 'name': 'Travel Agency', 'short_name': 'Travel Agency', 'plural_name': 'Travel Agencies', 'icon': {'prefix': 'https://ss3.4sqi.net/img/categories_v2/travel/travelagency_', 'suffix': '.png'}}], 'chains': [], 'closed_bucket': 'Unsure', 'distance': 2494, 'geocodes': {'main': {'latitude': 40.76357, 'longitude': -73.985957}, 'roof': {'latitude': 40.76357, 'longitude': -73.985957}}, 'link': '/v3/places/8eaaaf7c343847fd51504a74', 'location': {'address': '310 W 52nd St', 'census_block': '360610133002000', 'country': 'US', 'dma': 'New York', 'formatted_address': '310 W 52nd St, New York, NY 10019', 'locality': 'New York', 'postcode': '10019', 'region': 'NY'}, 'name': 'Hotwire', 'related_places': {}, 'timezone': 'America/New_York'}, {'fsq_id': '5851e62ccc5b6a439253748a', 'categories': [{'id': 19055, 'name': 'Travel Agency', 'short_name': 'Travel Agency', 'plural_name': 'Travel Agencies', 'icon': {'prefix': 'https://ss3.4sqi.net/img/categories_v2/travel/travelagency_', 'suffix': '.png'}}], 'chains': [], 'closed_bucket': 'LikelyOpen', 'distance': 2587, 'geocodes': {'main': {'latitude': 40.762041, 'longitude': -73.98463}, 'roof': {'latitude': 40.762041, 'longitude': -73.98463}}, 'link': '/v3/places/5851e62ccc5b6a439253748a', 'location': {'address': '1633 Broadway', 'address_extended': 'Fl 35', 'census_block': '360610131001003', 'country': 'US', 'cross_street': '', 'dma': 'New York', 'formatted_address': '1633 Broadway, New York, NY 10019', 'locality': 'New York', 'postcode': '10019', 'region': 'NY'}, 'name': 'BlueOrange Travel - NYC Travel Agency', 'related_places': {}, 'timezone': 'America/New_York'}, {'fsq_id': '5ed1916522c84d833ed8fe9b', 'categories': [{'id': 19055, 'name': 'Travel Agency', 'short_name': 'Travel Agency', 'plural_name': 'Travel Agencies', 'icon': {'prefix': 'https://ss3.4sqi.net/img/categories_v2/travel/travelagency_', 'suffix': '.png'}}], 'chains': [], 'closed_bucket': 'LikelyOpen', 'distance': 2955, 'geocodes': {'main': {'latitude': 40.756935, 'longitude': -73.977877}, 'roof': {'latitude': 40.756935, 'longitude': -73.977877}}, 'link': '/v3/places/5ed1916522c84d833ed8fe9b', 'location': {'address': '589 5th Ave', 'address_extended': 'Rm 1208', 'census_block': '360610094001001', 'country': 'US', 'dma': 'New York', 'formatted_address': '589 5th Ave, New York, NY 10017', 'locality': 'New York', 'postcode': '10017', 'region': 'NY'}, 'name': 'Gad International', 'related_places': {}, 'timezone': 'America/New_York'}, {'fsq_id': '57c9afd0498edb271c61bab2', 'categories': [{'id': 19053, 'name': 'Limo Service', 'short_name': 'Limo Service', 'plural_name': 'Limo Services', 'icon': {'prefix': 'https://ss3.4sqi.net/img/categories_v2/travel/taxi_', 'suffix': '.png'}}, {'id': 19055, 'name': 'Travel Agency', 'short_name': 'Travel Agency', 'plural_name': 'Travel Agencies', 'icon': {'prefix': 'https://ss3.4sqi.net/img/categories_v2/travel/travelagency_', 'suffix': '.png'}}], 'chains': [], 'closed_bucket': 'Unsure', 'distance': 3178, 'geocodes': {'drop_off': {'latitude': 40.756925, 'longitude': -73.986968}, 'main': {'latitude': 40.757123, 'longitude': -73.986884}, 'roof': {'latitude': 40.757123, 'longitude': -73.986884}}, 'link': '/v3/places/57c9afd0498edb271c61bab2', 'location': {'address': '211 W 43rd St', 'census_block': '360610119002003', 'country': 'US', 'cross_street': '', 'dma': 'New York', 'formatted_address': '211 W 43rd St, New York, NY 10036', 'locality': 'New York', 'postcode': '10036', 'region': 'NY'}, 'name': 'Empire Limousine', 'related_places': {}, 'timezone': 'America/New_York'}, {'fsq_id': '575f852b498ef56407b49b92', 'categories': [{'id': 19055, 'name': 'Travel Agency', 'short_name': 'Travel Agency', 'plural_name': 'Travel Agencies', 'icon': {'prefix': 'https://ss3.4sqi.net/img/categories_v2/travel/travelagency_', 'suffix': '.png'}}], 'chains': [], 'closed_bucket': 'Unsure', 'distance': 3378, 'geocodes': {'main': {'latitude': 40.755089, 'longitude': -73.98628}, 'roof': {'latitude': 40.755089, 'longitude': -73.98628}}, 'link': '/v3/places/575f852b498ef56407b49b92', 'location': {'address': '1460 Broadway', 'address_extended': 'Frnt 5', 'census_block': '360610113001000', 'country': 'US', 'cross_street': '', 'dma': 'New York', 'formatted_address': '1460 Broadway, New York, NY 10036', 'locality': 'New York', 'postcode': '10036', 'region': 'NY'}, 'name': 'Encore Jets', 'related_places': {}, 'timezone': 'America/New_York'}, {'fsq_id': '9af1f6a91c1943b87aa6d303', 'categories': [{'id': 19055, 'name': 'Travel Agency', 'short_name': 'Travel Agency', 'plural_name': 'Travel Agencies', 'icon': {'prefix': 'https://ss3.4sqi.net/img/categories_v2/travel/travelagency_', 'suffix': '.png'}}], 'chains': [], 'closed_bucket': 'Unsure', 'distance': 3447, 'geocodes': {'main': {'latitude': 40.754073, 'longitude': -73.985934}, 'roof': {'latitude': 40.754073, 'longitude': -73.985934}}, 'link': '/v3/places/9af1f6a91c1943b87aa6d303', 'location': {'address': '119 W 40th St', 'census_block': '360610113001009', 'country': 'US', 'dma': 'New York', 'formatted_address': '119 W 40th St, New York, NY 10018', 'locality': 'New York', 'postcode': '10018', 'region': 'NY'}, 'name': 'Blue Ribbon Bags', 'related_places': {}, 'timezone': 'America/New_York'}, {'fsq_id': '5c1a91ddc9a517002bb44f28', 'categories': [{'id': 19055, 'name': 'Travel Agency', 'short_name': 'Travel Agency', 'plural_name': 'Travel Agencies', 'icon': {'prefix': 'https://ss3.4sqi.net/img/categories_v2/travel/travelagency_', 'suffix': '.png'}}], 'chains': [], 'closed_bucket': 'Unsure', 'distance': 3451, 'geocodes': {'drop_off': {'latitude': 40.751836, 'longitude': -73.969067}, 'main': {'latitude': 40.752103, 'longitude': -73.968953}, 'roof': {'latitude': 40.752103, 'longitude': -73.968953}}, 'link': '/v3/places/5c1a91ddc9a517002bb44f28', 'location': {'address': '333 E 46th St', 'address_extended': 'Apt 1D', 'census_block': '360610090003001', 'country': 'US', 'cross_street': '', 'dma': 'New York', 'formatted_address': '333 E 46th St, New York, NY 10017', 'locality': 'New York', 'postcode': '10017', 'region': 'NY'}, 'name': 'VaccationTravel', 'related_places': {}, 'timezone': 'America/New_York'}, {'fsq_id': 'd2e65a5792fe430c069f64e5', 'categories': [{'id': 19055, 'name': 'Travel Agency', 'short_name': 'Travel Agency', 'plural_name': 'Travel Agencies', 'icon': {'prefix': 'https://ss3.4sqi.net/img/categories_v2/travel/travelagency_', 'suffix': '.png'}}], 'chains': [], 'closed_bucket': 'Unsure', 'distance': 3554, 'geocodes': {'main': {'latitude': 40.763401, 'longitude': -73.937936}, 'roof': {'latitude': 40.763401, 'longitude': -73.937936}}, 'link': '/v3/places/d2e65a5792fe430c069f64e5', 'location': {'address': '3438 12th St', 'census_block': '360810085001003', 'country': 'US', 'dma': 'New York', 'formatted_address': '3438 12th St, Astoria, NY 11106', 'locality': 'Astoria', 'postcode': '11106', 'region': 'NY'}, 'name': 'Journey Cook', 'related_places': {}, 'timezone': 'America/New_York'}, {'fsq_id': '4c51bac89d642d7f52d015de', 'categories': [{'id': 19055, 'name': 'Travel Agency', 'short_name': 'Travel Agency', 'plural_name': 'Travel Agencies', 'icon': {'prefix': 'https://ss3.4sqi.net/img/categories_v2/travel/travelagency_', 'suffix': '.png'}}], 'chains': [], 'closed_bucket': 'Unsure', 'distance': 3619, 'geocodes': {'main': {'latitude': 40.751265, 'longitude': -73.980015}, 'roof': {'latitude': 40.751265, 'longitude': -73.980015}}, 'link': '/v3/places/4c51bac89d642d7f52d015de', 'location': {'address': '275 Madison Ave', 'address_extended': 'Ste 2314', 'census_block': '360610082001000', 'country': 'US', 'cross_street': '40th Street', 'dma': 'New York', 'formatted_address': '275 Madison Ave (40th Street), New York, NY 10016', 'locality': 'New York', 'postcode': '10016', 'region': 'NY'}, 'name': 'Classic Travel', 'related_places': {}, 'timezone': 'America/New_York'}], 'context': {'geo_bounds': {'circle': {'center': {'latitude': 40.783058, 'longitude': -73.971252}, 'radius': 22000}}}}\n",
      "Number of elements in the response array: 10\n"
     ]
    },
    {
     "name": "stdout",
     "output_type": "stream",
     "text": [
      "{'results': [{'fsq_id': '553f30a8498edf5cebec7dca', 'categories': [{'id': 17044, 'name': 'Fashion Accessories Store', 'short_name': 'Fashion Accessories Store', 'plural_name': 'Fashion Accessories Stores', 'icon': {'prefix': 'https://ss3.4sqi.net/img/categories_v2/shops/apparel_accessories_', 'suffix': '.png'}}, {'id': 17045, 'name': 'Jewelry Store', 'short_name': 'Jewelry', 'plural_name': 'Jewelry Stores', 'icon': {'prefix': 'https://ss3.4sqi.net/img/categories_v2/shops/jewelry_', 'suffix': '.png'}}], 'chains': [], 'closed_bucket': 'Unsure', 'distance': 1913, 'geocodes': {'main': {'latitude': 40.76737, 'longitude': -73.981125}, 'roof': {'latitude': 40.76737, 'longitude': -73.981125}}, 'link': '/v3/places/553f30a8498edf5cebec7dca', 'location': {'address': '240 Central Park S', 'census_block': '360610137004000', 'country': 'US', 'cross_street': 'Broadway - 7th Ave', 'dma': 'New York', 'formatted_address': '240 Central Park S (Broadway - 7th Ave), New York, NY 10019', 'locality': 'New York', 'postcode': '10019', 'region': 'NY'}, 'name': 'Jane A. Gordon', 'related_places': {}, 'timezone': 'America/New_York'}, {'fsq_id': '59e8dea21bc704679af95899', 'categories': [{'id': 10027, 'name': 'Museum', 'short_name': 'Museum', 'plural_name': 'Museums', 'icon': {'prefix': 'https://ss3.4sqi.net/img/categories_v2/arts_entertainment/museum_', 'suffix': '.png'}}], 'chains': [], 'closed_bucket': 'LikelyOpen', 'distance': 2220, 'geocodes': {'main': {'latitude': 40.765198, 'longitude': -73.983618}, 'roof': {'latitude': 40.765198, 'longitude': -73.983618}}, 'link': '/v3/places/59e8dea21bc704679af95899', 'location': {'address': '928 8th Ave', 'census_block': '360610137006002', 'country': 'US', 'cross_street': 'at 55th St', 'dma': 'New York', 'formatted_address': '928 8th Ave (at 55th St), New York, NY 10019', 'locality': 'New York', 'postcode': '10019', 'region': 'NY'}, 'name': 'Spyscape', 'related_places': {'children': []}, 'timezone': 'America/New_York'}, {'fsq_id': '4a8ddef7f964a520331120e3', 'categories': [{'id': 10027, 'name': 'Museum', 'short_name': 'Museum', 'plural_name': 'Museums', 'icon': {'prefix': 'https://ss3.4sqi.net/img/categories_v2/arts_entertainment/museum_', 'suffix': '.png'}}], 'chains': [], 'closed_bucket': 'Unsure', 'distance': 4489, 'geocodes': {'main': {'latitude': 40.747304, 'longitude': -73.994797}, 'roof': {'latitude': 40.747304, 'longitude': -73.994797}}, 'link': '/v3/places/4a8ddef7f964a520331120e3', 'location': {'address': '227 W 27th St', 'census_block': '360610095002002', 'country': 'US', 'cross_street': 'at 7th Ave', 'dma': 'New York', 'formatted_address': '227 W 27th St (at 7th Ave), New York, NY 10001', 'locality': 'New York', 'postcode': '10001', 'region': 'NY'}, 'name': 'Fashion Institute Of Technology - Museum At Fit', 'related_places': {'parent': {'fsq_id': '499dea48f964a5208c521fe3', 'categories': [{'id': 12013, 'name': 'College and University', 'short_name': 'College & Education', 'plural_name': 'Colleges and Universities', 'icon': {'prefix': 'https://ss3.4sqi.net/img/categories_v2/education/default_', 'suffix': '.png'}}, {'id': 12013, 'name': 'College and University', 'short_name': 'College & Education', 'plural_name': 'Colleges and Universities', 'icon': {'prefix': 'https://ss3.4sqi.net/img/categories_v2/education/default_', 'suffix': '.png'}}, {'id': 12014, 'name': 'College Academic Building', 'short_name': 'Academic Building', 'plural_name': 'College Academic Buildings', 'icon': {'prefix': 'https://ss3.4sqi.net/img/categories_v2/education/academicbuilding_', 'suffix': '.png'}}], 'name': 'Fashion Institute of Technology'}, 'children': [{'fsq_id': '56f1a0dc498ebac4ad0997d0', 'categories': [{'id': 10028, 'name': 'Art Museum', 'short_name': 'Art Museum', 'plural_name': 'Art Museums', 'icon': {'prefix': 'https://ss3.4sqi.net/img/categories_v2/arts_entertainment/museum_art_', 'suffix': '.png'}}], 'name': 'The Museum at FIT'}]}, 'timezone': 'America/New_York'}, {'fsq_id': '3c0a0d4464ad4269a3672bfb', 'categories': [{'id': 10027, 'name': 'Museum', 'short_name': 'Museum', 'plural_name': 'Museums', 'icon': {'prefix': 'https://ss3.4sqi.net/img/categories_v2/arts_entertainment/museum_', 'suffix': '.png'}}], 'chains': [], 'closed_bucket': 'Unsure', 'distance': 6714, 'geocodes': {'main': {'latitude': 40.724864, 'longitude': -73.992735}, 'roof': {'latitude': 40.724864, 'longitude': -73.992735}}, 'link': '/v3/places/3c0a0d4464ad4269a3672bfb', 'location': {'address': '308 Bowery', 'census_block': '360610055022010', 'country': 'US', 'dma': 'New York', 'formatted_address': '308 Bowery, New York, NY 10012', 'locality': 'New York', 'postcode': '10012', 'region': 'NY'}, 'name': 'Lower East Side History project', 'related_places': {}, 'timezone': 'America/New_York'}, {'fsq_id': '4ac8f0cef964a52071bd20e3', 'categories': [{'id': 10004, 'name': 'Art Gallery', 'short_name': 'Art Gallery', 'plural_name': 'Art Galleries', 'icon': {'prefix': 'https://ss3.4sqi.net/img/categories_v2/arts_entertainment/artgallery_', 'suffix': '.png'}}], 'chains': [], 'closed_bucket': 'LikelyOpen', 'distance': 6789, 'geocodes': {'main': {'latitude': 40.726021, 'longitude': -73.999809}, 'roof': {'latitude': 40.726021, 'longitude': -73.999809}}, 'link': '/v3/places/4ac8f0cef964a52071bd20e3', 'location': {'address': '141 Wooster St', 'census_block': '360610049001000', 'country': 'US', 'cross_street': 'btw Prince St and Houston St', 'dma': 'New York', 'formatted_address': '141 Wooster St (btw Prince St and Houston St), New York, NY 10012', 'locality': 'New York', 'postcode': '10012', 'region': 'NY'}, 'name': 'The New York Earth Room', 'related_places': {}, 'timezone': 'America/New_York'}, {'fsq_id': '4c1961b0838020a142ade561', 'categories': [{'id': 10030, 'name': 'History Museum', 'short_name': 'History Museum', 'plural_name': 'History Museums', 'icon': {'prefix': 'https://ss3.4sqi.net/img/categories_v2/arts_entertainment/museum_history_', 'suffix': '.png'}}], 'chains': [], 'closed_bucket': 'Unsure', 'distance': 7194, 'geocodes': {'drop_off': {'latitude': 40.743503, 'longitude': -74.038758}, 'main': {'latitude': 40.743464, 'longitude': -74.038625}, 'roof': {'latitude': 40.743464, 'longitude': -74.038625}}, 'link': '/v3/places/4c1961b0838020a142ade561', 'location': {'address': '415 Monroe St', 'census_block': '340170190002001', 'country': 'US', 'cross_street': 'Between 4th & 5th Street', 'dma': 'New York', 'formatted_address': '415 Monroe St (Between 4th & 5th Street), Hoboken, NJ 07030', 'locality': 'Hoboken', 'postcode': '07030', 'region': 'NJ'}, 'name': \"Franks Sinatra's Birthplace\", 'related_places': {}, 'timezone': 'America/New_York'}, {'fsq_id': '4de25e67ae60e7f3abed1daa', 'categories': [{'id': 12086, 'name': 'Non-Profit Organization', 'short_name': 'Non-Profit Organization', 'plural_name': 'Non-Profit Organizations', 'icon': {'prefix': 'https://ss3.4sqi.net/img/categories_v2/building/default_', 'suffix': '.png'}}], 'chains': [], 'closed_bucket': 'Unsure', 'distance': 7778, 'geocodes': {'main': {'latitude': 40.714247, 'longitude': -73.986469}, 'roof': {'latitude': 40.714247, 'longitude': -73.986469}}, 'link': '/v3/places/4de25e67ae60e7f3abed1daa', 'location': {'address': '235 E Broadway', 'address_extended': 'Ofc 3A', 'census_block': '360610002011000', 'country': 'US', 'cross_street': 'at Clinton St.', 'dma': 'New York', 'formatted_address': '235 E Broadway (at Clinton St.), New York, NY 10002', 'locality': 'New York', 'postcode': '10002', 'region': 'NY'}, 'name': 'Lower East Side Conservancy', 'related_places': {}, 'timezone': 'America/New_York'}, {'fsq_id': '2cefced41b2748783834248e', 'categories': [{'id': 10027, 'name': 'Museum', 'short_name': 'Museum', 'plural_name': 'Museums', 'icon': {'prefix': 'https://ss3.4sqi.net/img/categories_v2/arts_entertainment/museum_', 'suffix': '.png'}}, {'id': 12086, 'name': 'Non-Profit Organization', 'short_name': 'Non-Profit Organization', 'plural_name': 'Non-Profit Organizations', 'icon': {'prefix': 'https://ss3.4sqi.net/img/categories_v2/building/default_', 'suffix': '.png'}}], 'chains': [], 'closed_bucket': 'LikelyOpen', 'distance': 9019, 'geocodes': {'drop_off': {'latitude': 40.706744, 'longitude': -73.935497}, 'main': {'latitude': 40.706556, 'longitude': -73.935462}, 'roof': {'latitude': 40.706556, 'longitude': -73.935462}}, 'link': '/v3/places/2cefced41b2748783834248e', 'location': {'address': '304 Boerum St', 'census_block': '360470485001018', 'country': 'US', 'dma': 'New York', 'formatted_address': '304 Boerum St, Brooklyn, NY 11206', 'locality': 'Brooklyn', 'postcode': '11206', 'region': 'NY'}, 'name': 'Jonah Bokaer Arts Foundation', 'related_places': {}, 'timezone': 'America/New_York'}, {'fsq_id': '4be6fa54d4f7c9b662482720', 'categories': [{'id': 16026, 'name': 'Monument', 'short_name': 'Monument', 'plural_name': 'Monuments', 'icon': {'prefix': 'https://ss3.4sqi.net/img/categories_v2/building/government_monument_', 'suffix': '.png'}}], 'chains': [], 'closed_bucket': 'Unsure', 'distance': 13206, 'geocodes': {'main': {'latitude': 40.66693, 'longitude': -73.973715}, 'roof': {'latitude': 40.66693, 'longitude': -73.973715}}, 'link': '/v3/places/4be6fa54d4f7c9b662482720', 'location': {'address': '95 Prospect Park W', 'census_block': '360470177001007', 'country': 'US', 'cross_street': '', 'dma': 'New York', 'formatted_address': '95 Prospect Park W, Brooklyn, NY 11215', 'locality': 'Brooklyn', 'postcode': '11215', 'region': 'NY'}, 'name': 'Lefferts Historic House', 'related_places': {'parent': {'fsq_id': '42893400f964a52052231fe3', 'categories': [{'id': 16032, 'name': 'Park', 'short_name': 'Park', 'plural_name': 'Parks', 'icon': {'prefix': 'https://ss3.4sqi.net/img/categories_v2/parks_outdoors/park_', 'suffix': '.png'}}], 'name': 'Prospect Park'}}, 'timezone': 'America/New_York'}, {'fsq_id': '5ba3d9a889b06a002c320338', 'categories': [{'id': 12047, 'name': 'Student Center', 'short_name': 'Student Center', 'plural_name': 'Student Centers', 'icon': {'prefix': 'https://ss3.4sqi.net/img/categories_v2/education/studentcenter_', 'suffix': '.png'}}], 'chains': [], 'closed_bucket': 'Unsure', 'distance': 16143, 'geocodes': {'drop_off': {'latitude': 40.638702, 'longitude': -73.95019}, 'main': {'latitude': 40.638671, 'longitude': -73.950481}, 'roof': {'latitude': 40.638671, 'longitude': -73.950481}}, 'link': '/v3/places/5ba3d9a889b06a002c320338', 'location': {'address': '490 E 28th St', 'census_block': '360470828002002', 'country': 'US', 'cross_street': '', 'dma': 'New York', 'formatted_address': '490 E 28th St, Brooklyn, NY 11226', 'locality': 'Brooklyn', 'postcode': '11226', 'region': 'NY'}, 'name': 'Tour for Tolerance', 'related_places': {}, 'timezone': 'America/New_York'}], 'context': {'geo_bounds': {'circle': {'center': {'latitude': 40.783058, 'longitude': -73.971252}, 'radius': 22000}}}}\n",
      "Number of elements in the response array: 10\n"
     ]
    },
    {
     "name": "stdout",
     "output_type": "stream",
     "text": [
      "{'results': [{'fsq_id': '5d434058ba462b0008f64658', 'categories': [{'id': 13002, 'name': 'Bakery', 'short_name': 'Bakery', 'plural_name': 'Bakeries', 'icon': {'prefix': 'https://ss3.4sqi.net/img/categories_v2/food/bakery_', 'suffix': '.png'}}, {'id': 13034, 'name': 'Café', 'short_name': 'Café', 'plural_name': 'Cafés', 'icon': {'prefix': 'https://ss3.4sqi.net/img/categories_v2/food/cafe_', 'suffix': '.png'}}, {'id': 13334, 'name': 'Sandwich Spot', 'short_name': 'Sandwich Spot', 'plural_name': 'Sandwich Spots', 'icon': {'prefix': 'https://ss3.4sqi.net/img/categories_v2/food/deli_', 'suffix': '.png'}}], 'chains': [], 'closed_bucket': 'Unsure', 'distance': 634, 'geocodes': {'drop_off': {'latitude': 40.782391, 'longitude': -73.978874}, 'main': {'latitude': 40.782225, 'longitude': -73.978646}, 'roof': {'latitude': 40.782225, 'longitude': -73.978646}}, 'link': '/v3/places/5d434058ba462b0008f64658', 'location': {'address': '375 Amsterdam Ave', 'census_block': '360610161001000', 'country': 'US', 'cross_street': 'at W78th St', 'dma': 'New York', 'formatted_address': '375 Amsterdam Ave (at W78th St), New York, NY 10024', 'locality': 'New York', 'postcode': '10024', 'region': 'NY'}, 'name': 'Daily Provisions', 'related_places': {}, 'timezone': 'America/New_York'}, {'fsq_id': '59541640a22db738071fa21f', 'categories': [{'id': 13002, 'name': 'Bakery', 'short_name': 'Bakery', 'plural_name': 'Bakeries', 'icon': {'prefix': 'https://ss3.4sqi.net/img/categories_v2/food/bakery_', 'suffix': '.png'}}, {'id': 13032, 'name': 'Cafe, Coffee, and Tea House', 'short_name': 'Cafe, Coffee, and Tea House', 'plural_name': 'Cafes, Coffee, and Tea Houses', 'icon': {'prefix': 'https://ss3.4sqi.net/img/categories_v2/food/coffeeshop_', 'suffix': '.png'}}, {'id': 13065, 'name': 'Restaurant', 'short_name': 'Restaurant', 'plural_name': 'Restaurants', 'icon': {'prefix': 'https://ss3.4sqi.net/img/categories_v2/food/default_', 'suffix': '.png'}}], 'chains': [], 'closed_bucket': 'Unsure', 'distance': 695, 'geocodes': {'main': {'latitude': 40.781511, 'longitude': -73.979099}, 'roof': {'latitude': 40.781511, 'longitude': -73.979099}}, 'link': '/v3/places/59541640a22db738071fa21f', 'location': {'address': '351 Amsterdam Ave', 'census_block': '360610161001001', 'country': 'US', 'cross_street': 'at W 77th St', 'dma': 'New York', 'formatted_address': '351 Amsterdam Ave (at W 77th St), New York, NY 10024', 'locality': 'New York', 'postcode': '10024', 'region': 'NY'}, 'name': 'Levain Bakery – Upper West Side, NYC', 'related_places': {}, 'timezone': 'America/New_York'}, {'fsq_id': '591b6df695d986522a5ddd50', 'categories': [{'id': 13276, 'name': 'Sushi Restaurant', 'short_name': 'Sushi', 'plural_name': 'Sushi Restaurants', 'icon': {'prefix': 'https://ss3.4sqi.net/img/categories_v2/food/sushi_', 'suffix': '.png'}}], 'chains': [], 'closed_bucket': 'Unsure', 'distance': 1120, 'geocodes': {'drop_off': {'latitude': 40.779391, 'longitude': -73.983489}, 'main': {'latitude': 40.779232, 'longitude': -73.983555}, 'roof': {'latitude': 40.779232, 'longitude': -73.983555}}, 'link': '/v3/places/591b6df695d986522a5ddd50', 'location': {'address': '244 W 72nd St', 'census_block': '360610159006001', 'country': 'US', 'cross_street': 'btwn Broadway & West End Ave', 'dma': 'New York', 'formatted_address': '244 W 72nd St (btwn Broadway & West End Ave), New York, NY 10023', 'locality': 'New York', 'postcode': '10023', 'region': 'NY'}, 'name': 'Sushi Kaito', 'related_places': {}, 'timezone': 'America/New_York'}, {'fsq_id': '5d2ccef540f3b0002ffe517d', 'categories': [{'id': 13002, 'name': 'Bakery', 'short_name': 'Bakery', 'plural_name': 'Bakeries', 'icon': {'prefix': 'https://ss3.4sqi.net/img/categories_v2/food/bakery_', 'suffix': '.png'}}, {'id': 13065, 'name': 'Restaurant', 'short_name': 'Restaurant', 'plural_name': 'Restaurants', 'icon': {'prefix': 'https://ss3.4sqi.net/img/categories_v2/food/default_', 'suffix': '.png'}}], 'chains': [], 'closed_bucket': 'Unsure', 'distance': 1485, 'geocodes': {'drop_off': {'latitude': 40.776987, 'longitude': -73.955686}, 'main': {'latitude': 40.777395, 'longitude': -73.955514}, 'roof': {'latitude': 40.777395, 'longitude': -73.955514}}, 'link': '/v3/places/5d2ccef540f3b0002ffe517d', 'location': {'address': '1484 3rd Ave', 'census_block': '360610140001000', 'country': 'US', 'cross_street': '', 'dma': 'New York', 'formatted_address': '1484 3rd Ave, New York, NY 10028', 'locality': 'New York', 'postcode': '10028', 'region': 'NY'}, 'name': 'Levain Bakery – Upper East Side, NYC', 'related_places': {}, 'timezone': 'America/New_York'}, {'fsq_id': '56ba9f99498ef6f5b55a33dc', 'categories': [{'id': 13002, 'name': 'Bakery', 'short_name': 'Bakery', 'plural_name': 'Bakeries', 'icon': {'prefix': 'https://ss3.4sqi.net/img/categories_v2/food/bakery_', 'suffix': '.png'}}, {'id': 13035, 'name': 'Coffee Shop', 'short_name': 'Coffee Shop', 'plural_name': 'Coffee Shops', 'icon': {'prefix': 'https://ss3.4sqi.net/img/categories_v2/food/coffeeshop_', 'suffix': '.png'}}, {'id': 13065, 'name': 'Restaurant', 'short_name': 'Restaurant', 'plural_name': 'Restaurants', 'icon': {'prefix': 'https://ss3.4sqi.net/img/categories_v2/food/default_', 'suffix': '.png'}}], 'chains': [], 'closed_bucket': 'Unsure', 'distance': 1604, 'geocodes': {'main': {'latitude': 40.771077, 'longitude': -73.98175}, 'roof': {'latitude': 40.771077, 'longitude': -73.98175}}, 'link': '/v3/places/56ba9f99498ef6f5b55a33dc', 'location': {'address': '1890 Broadway', 'census_block': '360610149005000', 'country': 'US', 'cross_street': '', 'dma': 'New York', 'formatted_address': '1890 Broadway, New York, NY 10023', 'locality': 'New York', 'postcode': '10023', 'region': 'NY'}, 'name': 'Breads Bakery', 'related_places': {}, 'timezone': 'America/New_York'}, {'fsq_id': '59d2749131ac6c5f4472e43e', 'categories': [{'id': 13145, 'name': 'Fast Food Restaurant', 'short_name': 'Fast Food', 'plural_name': 'Fast Food Restaurants', 'icon': {'prefix': 'https://ss3.4sqi.net/img/categories_v2/food/fastfood_', 'suffix': '.png'}}, {'id': 13334, 'name': 'Sandwich Spot', 'short_name': 'Sandwich Spot', 'plural_name': 'Sandwich Spots', 'icon': {'prefix': 'https://ss3.4sqi.net/img/categories_v2/food/deli_', 'suffix': '.png'}}], 'chains': [{'id': '2fcf0650-9c63-0132-6632-3c15c2dde6c8', 'name': 'Pret a Manger'}], 'closed_bucket': 'LikelyOpen', 'distance': 2119, 'geocodes': {'drop_off': {'latitude': 40.765691, 'longitude': -73.981869}, 'main': {'latitude': 40.765679, 'longitude': -73.981801}, 'roof': {'latitude': 40.765679, 'longitude': -73.981801}}, 'link': '/v3/places/59d2749131ac6c5f4472e43e', 'location': {'address': '1756 Broadway', 'census_block': '360610137005000', 'country': 'US', 'cross_street': '56th Street', 'dma': 'New York', 'formatted_address': '1756 Broadway (56th Street), New York, NY 10019', 'locality': 'New York', 'postcode': '10019', 'region': 'NY'}, 'name': 'Pret A Manger', 'related_places': {}, 'timezone': 'America/New_York'}, {'fsq_id': '4a63578cf964a520cfc41fe3', 'categories': [{'id': 13001, 'name': 'Bagel Shop', 'short_name': 'Bagels', 'plural_name': 'Bagel Shops', 'icon': {'prefix': 'https://ss3.4sqi.net/img/categories_v2/food/bagels_', 'suffix': '.png'}}, {'id': 13002, 'name': 'Bakery', 'short_name': 'Bakery', 'plural_name': 'Bakeries', 'icon': {'prefix': 'https://ss3.4sqi.net/img/categories_v2/food/bakery_', 'suffix': '.png'}}, {'id': 13039, 'name': 'Deli', 'short_name': 'Deli', 'plural_name': 'Delis', 'icon': {'prefix': 'https://ss3.4sqi.net/img/categories_v2/food/deli_', 'suffix': '.png'}}], 'chains': [], 'closed_bucket': 'LikelyOpen', 'distance': 2344, 'geocodes': {'drop_off': {'latitude': 40.764256, 'longitude': -73.958723}, 'main': {'latitude': 40.764353, 'longitude': -73.958856}, 'roof': {'latitude': 40.764353, 'longitude': -73.958856}}, 'link': '/v3/places/4a63578cf964a520cfc41fe3', 'location': {'address': '1229 1st Ave', 'census_block': '360610118004002', 'country': 'US', 'cross_street': 'btwn 66th & 67th St', 'formatted_address': '1229 1st Ave (btwn 66th & 67th St), New York, NY 10065', 'locality': 'New York', 'postcode': '10065', 'region': 'NY'}, 'name': 'Bagelworks', 'related_places': {}, 'timezone': 'America/New_York'}, {'fsq_id': '4b8410e1f964a520831e31e3', 'categories': [{'id': 13039, 'name': 'Deli', 'short_name': 'Deli', 'plural_name': 'Delis', 'icon': {'prefix': 'https://ss3.4sqi.net/img/categories_v2/food/deli_', 'suffix': '.png'}}], 'chains': [], 'closed_bucket': 'Unsure', 'distance': 2368, 'geocodes': {'drop_off': {'latitude': 40.772099, 'longitude': -73.94684}, 'main': {'latitude': 40.772225, 'longitude': -73.947012}, 'roof': {'latitude': 40.772225, 'longitude': -73.947012}}, 'link': '/v3/places/4b8410e1f964a520831e31e3', 'location': {'address': '50 E End Ave', 'census_block': '360610136022000', 'country': 'US', 'cross_street': '82nd St', 'dma': 'New York', 'formatted_address': '50 E End Ave (82nd St), New York, NY 10028', 'locality': 'New York', 'postcode': '10028', 'region': 'NY'}, 'name': 'Yura on East End', 'related_places': {}, 'timezone': 'America/New_York'}, {'fsq_id': '4a453e4cf964a520f1a71fe3', 'categories': [{'id': 13133, 'name': 'Colombian Restaurant', 'short_name': 'Colombian', 'plural_name': 'Colombian Restaurants', 'icon': {'prefix': 'https://ss3.4sqi.net/img/categories_v2/food/argentinian_', 'suffix': '.png'}}, {'id': 13141, 'name': 'Empanada Restaurant', 'short_name': 'Empanada', 'plural_name': 'Empanada Restaurants', 'icon': {'prefix': 'https://ss3.4sqi.net/img/categories_v2/food/latinamerican_', 'suffix': '.png'}}, {'id': 13303, 'name': 'Mexican Restaurant', 'short_name': 'Mexican', 'plural_name': 'Mexican Restaurants', 'icon': {'prefix': 'https://ss3.4sqi.net/img/categories_v2/food/mexican_', 'suffix': '.png'}}], 'chains': [], 'closed_bucket': 'Unsure', 'distance': 2533, 'geocodes': {'main': {'latitude': 40.764419, 'longitude': -73.988481}, 'roof': {'latitude': 40.764419, 'longitude': -73.988481}}, 'link': '/v3/places/4a453e4cf964a520f1a71fe3', 'location': {'address': '765 9th Ave', 'address_extended': 'Frnt 1', 'census_block': '360610133003000', 'country': 'US', 'cross_street': 'btwn 51st & 52nd St', 'dma': 'New York', 'formatted_address': '765 9th Ave (btwn 51st & 52nd St), New York, NY 10019', 'locality': 'New York', 'postcode': '10019', 'region': 'NY'}, 'name': 'Empanada Mama', 'related_places': {}, 'timezone': 'America/New_York'}, {'fsq_id': '55c6073a498e157e0657077e', 'categories': [{'id': 13001, 'name': 'Bagel Shop', 'short_name': 'Bagels', 'plural_name': 'Bagel Shops', 'icon': {'prefix': 'https://ss3.4sqi.net/img/categories_v2/food/bagels_', 'suffix': '.png'}}, {'id': 13068, 'name': 'American Restaurant', 'short_name': 'American', 'plural_name': 'American Restaurants', 'icon': {'prefix': 'https://ss3.4sqi.net/img/categories_v2/food/default_', 'suffix': '.png'}}, {'id': 13039, 'name': 'Deli', 'short_name': 'Deli', 'plural_name': 'Delis', 'icon': {'prefix': 'https://ss3.4sqi.net/img/categories_v2/food/deli_', 'suffix': '.png'}}], 'chains': [], 'closed_bucket': 'Unsure', 'distance': 2730, 'geocodes': {'main': {'latitude': 40.80426, 'longitude': -73.954145}, 'roof': {'latitude': 40.80426, 'longitude': -73.954145}}, 'link': '/v3/places/55c6073a498e157e0657077e', 'location': {'address': '235 W 116th St', 'census_block': '360610218004002', 'country': 'US', 'cross_street': 'Between St. Nicholas and Frederick Douglass blvd', 'dma': 'New York', 'formatted_address': '235 W 116th St (Between St. Nicholas and Frederick Douglass blvd), New York, NY 10026', 'locality': 'New York', 'postcode': '10026', 'region': 'NY'}, 'name': \"Bo's Bagels\", 'related_places': {}, 'timezone': 'America/New_York'}], 'context': {'geo_bounds': {'circle': {'center': {'latitude': 40.783058, 'longitude': -73.971252}, 'radius': 22000}}}}\n",
      "Number of elements in the response array: 10\n"
     ]
    }
   ],
   "source": [
    "import requests\n",
    "import csv\n",
    "\n",
    "\n",
    "# Sample list of places entered by the user\n",
    "places = [\"Travel Agency\", \"Museum\", \"Restaurant\"]\n",
    "\n",
    "url = \"https://api.foursquare.com/v3/places/search\"\n",
    "\n",
    "# User's latitude and longitude\n",
    "user_lat = 40.783058\n",
    "user_lon = -73.971252\n",
    "\n",
    "# Loop over each place in the list\n",
    "for place in places:\n",
    "    params = {\n",
    "        \"query\": place,\n",
    "        \"ll\": f\"{user_lat},{user_lon}\",\n",
    "        \"open_now\": \"true\",\n",
    "        \"sort\": \"DISTANCE\"\n",
    "    }\n",
    "\n",
    "    headers = {\n",
    "        \"Accept\": \"application/json\",\n",
    "        \"Authorization\": \"fsq38VO0GeyC+Ebicj6/shufS1vd6pPnEVYa4+L48jSJq1k=\"\n",
    "    }\n",
    "\n",
    "    response = requests.request(\"GET\", url, params=params, headers=headers)\n",
    "\n",
    "    if response.status_code == 200:\n",
    "        data = response.json()\n",
    "        print(data)\n",
    "        print(f\"Number of elements in the response array: {len(data['results'])}\")\n",
    "\n",
    "        # Create a list to store the sorted results\n",
    "        sorted_results = []\n",
    "        for result in data['results']:\n",
    "            fsq_id = result.get('fsq_id', 'fsq_id not available')\n",
    "            name = result.get('name', 'Name not available')\n",
    "            formatted_address = result['location'].get('formatted_address', 'Address not available')\n",
    "            latitude = result['geocodes']['main'].get('latitude', 'Latitude not available')\n",
    "            longitude = result['geocodes']['main'].get('longitude', 'Longitude not available')\n",
    "            category_id = result['categories'][0].get('id', 'Category ID not available') if result.get('categories') else ''\n",
    "            # Calculate the distance using Haversine formula\n",
    "            distance = haversine(user_lat, user_lon, float(latitude), float(longitude))\n",
    "            sorted_results.append({'fsq Id': fsq_id, 'Name': name, 'Address': formatted_address, 'Latitude': latitude, 'Longitude': longitude, 'Category ID': category_id, 'Distance from User': distance})\n",
    "\n",
    "        # Write the sorted results to a CSV file\n",
    "        file_name = f\"POI_{place.replace(' ', '_')}.csv\"\n",
    "        with open(file_name, mode='w', newline='') as file:\n",
    "            writer = csv.DictWriter(file, fieldnames=['fsq Id', 'Name', 'Address', 'Latitude', 'Longitude', 'Category ID', 'Distance from User'])\n",
    "            writer.writeheader()\n",
    "            for place in sorted_results:\n",
    "                writer.writerow(place)\n",
    "    else:\n",
    "        print(f\"Failed to retrieve data for {place} from the API\")\n"
   ]
  },
  {
   "cell_type": "code",
   "execution_count": 5,
   "id": "c43f9fc3",
   "metadata": {},
   "outputs": [
    {
     "name": "stdout",
     "output_type": "stream",
     "text": [
      "{'results': [{'popularity': 0.8348777522625962, 'website': 'http://kgtravelclub.com'}, {'popularity': 0.6314695705483224, 'website': 'https://www.hotwire.com/New-York-Hotels.d178293.Travel-Guide-Hotels'}, {'popularity': 0.7210112324525401, 'website': 'https://blueorangetravel.com'}, {'popularity': 0.5670570143081287, 'website': 'https://www.gadrealty.com'}, {'popularity': 0.7479836656656864, 'website': 'http://www.empirelimousine.net'}, {'popularity': 0.779681833768015, 'website': 'http://www.encorejets.com'}, {'popularity': 0.11738900030133315, 'website': 'http://www.blueribbonbags.com'}, {'popularity': 0.5345462858092873, 'website': 'https://www.vaccationtravel.com'}, {'popularity': 0.17152355613170317, 'website': 'http://www.journeycook.com'}, {'popularity': 0.3040451376261183, 'website': 'http://www.classictravel.com'}], 'context': {'geo_bounds': {'circle': {'center': {'latitude': 40.783058, 'longitude': -73.971252}, 'radius': 22000}}}}\n",
      "Number of elements in the response array: 10\n",
      "{'results': [{'popularity': 0.13850102349359408, 'website': 'http://www.janegordon.com'}, {'popularity': 0.9894928251540436, 'rating': 8.1, 'stats': {'total_photos': 147, 'total_ratings': 97, 'total_tips': 15}, 'website': 'http://spyscape.com'}, {'popularity': 0.9926391587610013, 'rating': 8.2, 'stats': {'total_photos': 569, 'total_ratings': 235, 'total_tips': 40}, 'website': 'http://www.fitnyc.edu/museum.asp'}, {'popularity': 0.8805369964359563, 'website': 'http://www.leshp.org'}, {'popularity': 0.9759494591589688, 'rating': 7.9, 'stats': {'total_photos': 59, 'total_ratings': 160, 'total_tips': 36}, 'website': 'http://www.earthroom.org'}, {'popularity': 0.9883521754025351, 'rating': 6.6, 'stats': {'total_photos': 28, 'total_ratings': 19, 'total_tips': 3}}, {'popularity': 0.06416733340953251, 'website': 'http://www.nycjewishtours.org'}, {'popularity': 0.3474862487425893, 'website': 'https://jonahbokaer.net/contact'}, {'popularity': 0.9488560237998416, 'rating': 7.8, 'stats': {'total_photos': 77, 'total_ratings': 37, 'total_tips': 11}, 'website': 'http://prospectpark.org'}, {'popularity': 0.7715086788091519, 'website': 'https://tourfortolerance.org'}], 'context': {'geo_bounds': {'circle': {'center': {'latitude': 40.783058, 'longitude': -73.971252}, 'radius': 22000}}}}\n",
      "Number of elements in the response array: 10\n",
      "{'results': [{'popularity': 0.9885036211930714, 'price': 1, 'rating': 9.1, 'stats': {'total_photos': 73, 'total_ratings': 146, 'total_tips': 24}, 'website': 'http://dailyprovisionsnyc.com'}, {'popularity': 0.9909620839784287, 'price': 1, 'rating': 9.3, 'stats': {'total_photos': 293, 'total_ratings': 469, 'total_tips': 84}, 'website': 'https://levainbakery.com'}, {'popularity': 0.9359365745695611, 'price': 2, 'rating': 8.8, 'stats': {'total_photos': 36, 'total_ratings': 50, 'total_tips': 9}, 'website': 'http://sushikaito.co'}, {'popularity': 0.9947671941728405, 'price': 1, 'rating': 9.2, 'stats': {'total_photos': 151, 'total_ratings': 140, 'total_tips': 20}, 'website': 'https://levainbakery.com'}, {'popularity': 0.9939650245742371, 'price': 2, 'rating': 9.2, 'stats': {'total_photos': 100, 'total_ratings': 259, 'total_tips': 46}, 'website': 'https://www.breadsbakery.com'}, {'popularity': 0.9860202204927316, 'price': 1, 'rating': 8.7, 'stats': {'total_photos': 19, 'total_ratings': 37, 'total_tips': 2}, 'website': 'http://www.pret.com/'}, {'popularity': 0.9926786437930568, 'price': 1, 'rating': 8.6, 'stats': {'total_photos': 100, 'total_ratings': 294, 'total_tips': 59}, 'website': 'http://bagelworks-nyc.com'}, {'popularity': 0.9865584638244371, 'price': 1, 'rating': 8.7, 'stats': {'total_photos': 22, 'total_ratings': 31, 'total_tips': 11}, 'website': 'http://www.yura.nyc'}, {'popularity': 0.9943224680223194, 'price': 2, 'rating': 8.8, 'stats': {'total_photos': 641, 'total_ratings': 1138, 'total_tips': 384}, 'website': 'https://www.empmamanyc.com'}, {'popularity': 0.9957605544529764, 'price': 1, 'rating': 8.8, 'stats': {'total_photos': 51, 'total_ratings': 120, 'total_tips': 23}, 'website': 'http://www.bosbagels.com'}], 'context': {'geo_bounds': {'circle': {'center': {'latitude': 40.783058, 'longitude': -73.971252}, 'radius': 22000}}}}\n",
      "Number of elements in the response array: 10\n"
     ]
    }
   ],
   "source": [
    "url = \"https://api.foursquare.com/v3/places/search\"\n",
    "import random\n",
    "random.seed(42)\n",
    "\n",
    "# Loop over each place in the list\n",
    "for place in places:\n",
    "    params = {\n",
    "        \"query\": place,\n",
    "        \"ll\": \"40.783058,-73.971252\",\n",
    "        \"open_now\": \"true\",\n",
    "        \"sort\": \"DISTANCE\",\n",
    "        \"fields\": \"website,rating,popularity,stats,price\"\n",
    "    }\n",
    "\n",
    "    headers = {\n",
    "        \"Accept\": \"application/json\",\n",
    "        \"Authorization\": \"fsq38VO0GeyC+Ebicj6/shufS1vd6pPnEVYa4+L48jSJq1k=\"\n",
    "    }\n",
    "\n",
    "    response = requests.request(\"GET\", url, params=params, headers=headers)\n",
    "\n",
    "    if response.status_code == 200:\n",
    "        data = response.json()\n",
    "        print(data)\n",
    "        print(f\"Number of elements in the response array: {len(data['results'])}\")\n",
    "\n",
    "        # Create a list to store the sorted results\n",
    "        sorted_results = []\n",
    "        for result in data['results']:\n",
    "            popularity = result.get('popularity', '')                                                                                  or random.randint(0, 1)  # Use random value if popularity is missing\n",
    "            rating = result.get('rating', '')                                                                                          or round(random.uniform(6, 10), 1)  # Use random value if rating is missing\n",
    "            total_ratings = result.get('stats', {}).get('total_ratings', '')                                                           or random.randint(0, 1000)            \n",
    "            website = result.get('website', '')\n",
    "            price = random.randint(40, 240)  # Always fill with a random value between 80 and 500\n",
    "            sorted_results.append({'Popularity': popularity, 'Ratings': rating, 'Total Ratings': total_ratings,'Price($)': price, 'Website': website, })\n",
    "\n",
    "        # Write the sorted results to a CSV file\n",
    "        file_name = f\"POI_details_{place.replace(' ', '_')}.csv\"\n",
    "        with open(file_name, mode='w', newline='') as file:\n",
    "            writer = csv.DictWriter(file, fieldnames=['Popularity', 'Ratings', 'Total Ratings', 'Price($)', 'Website'])\n",
    "            writer.writeheader()\n",
    "            for place in sorted_results:\n",
    "                writer.writerow(place)\n",
    "    else:\n",
    "        print(f\"Failed to retrieve data for {place} from the API\")\n"
   ]
  },
  {
   "cell_type": "code",
   "execution_count": 6,
   "id": "1a64e5d3",
   "metadata": {},
   "outputs": [],
   "source": [
    "# Loop over each place in the list\n",
    "for place in places:\n",
    "    # Open the first CSV file and read its contents\n",
    "    with open(f'POI_{place.replace(\" \", \"_\")}.csv', mode='r') as file1:\n",
    "        reader1 = csv.DictReader(file1)\n",
    "        data1 = list(reader1)\n",
    "\n",
    "    # Open the second CSV file and read its contents\n",
    "    with open(f'POI_details_{place.replace(\" \", \"_\")}.csv', mode='r') as file2:\n",
    "        reader2 = csv.DictReader(file2)\n",
    "        data2 = list(reader2)\n",
    "\n",
    "    # Combine the rows from both CSV files row-wise\n",
    "    combined_data = []\n",
    "    for row1, row2 in zip(data1, data2):\n",
    "        combined_row = {**row1, **row2}  # Merge the two dictionaries\n",
    "        combined_data.append(combined_row)\n",
    "\n",
    "    # Write the combined data to a new CSV file\n",
    "    file_name = f'POI_FINAL_{place.replace(\" \", \"_\")}.csv'\n",
    "    with open(file_name, mode='w', newline='') as file:\n",
    "        fieldnames = list(data1[0].keys()) + list(data2[0].keys())  # Combine the fieldnames\n",
    "        writer = csv.DictWriter(file, fieldnames=fieldnames)\n",
    "        writer.writeheader()\n",
    "        for row in combined_data:\n",
    "            writer.writerow(row)"
   ]
  },
  {
   "cell_type": "code",
   "execution_count": null,
   "id": "f9baf1ce",
   "metadata": {},
   "outputs": [],
   "source": []
  }
 ],
 "metadata": {
  "kernelspec": {
   "display_name": "Python 3 (ipykernel)",
   "language": "python",
   "name": "python3"
  },
  "language_info": {
   "codemirror_mode": {
    "name": "ipython",
    "version": 3
   },
   "file_extension": ".py",
   "mimetype": "text/x-python",
   "name": "python",
   "nbconvert_exporter": "python",
   "pygments_lexer": "ipython3",
   "version": "3.9.12"
  }
 },
 "nbformat": 4,
 "nbformat_minor": 5
}
