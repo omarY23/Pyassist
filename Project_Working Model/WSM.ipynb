{
 "cells": [
  {
   "cell_type": "code",
   "execution_count": 1,
   "id": "30e478ea",
   "metadata": {},
   "outputs": [
    {
     "name": "stdout",
     "output_type": "stream",
     "text": [
      "\n",
      "POI_FINAL_Museum.csv Rankings:\n",
      "               Name   Latitude  Longitude  Price($)  Weighted Sum  Rank\n",
      "0           Jane A.  40.767370 -73.981125  0.000000      0.391207   5.0\n",
      "1          Spyscape  40.765198 -73.983618  0.250000      0.371006   6.0\n",
      "2           The New  40.726021 -73.999809  0.440476      0.466499   3.0\n",
      "3  Franks Sinatra's  40.743464 -74.038625  0.821429      0.429189   4.0\n",
      "4          Tour for  40.638671 -73.950481  0.261905      0.473300   2.0\n",
      "5     Staten Island  40.643975 -74.102698  1.000000      0.638985   1.0\n",
      "\n",
      "POI_FINAL_Restaurant.csv Rankings:\n",
      "              Name   Latitude  Longitude  Price($)  Weighted Sum  Rank\n",
      "0    Gray's Papaya  40.778368 -73.981555  0.542857      0.375483   7.0\n",
      "1       Fleming by  40.765526 -73.969431  0.560000      0.295182  10.0\n",
      "2        El Aguila  40.790613 -73.947674  0.182857      0.304863   9.0\n",
      "3       Vida Verde  40.764939 -73.983214  0.680000      0.436540   5.0\n",
      "4    Empanada Mama  40.764419 -73.988481  1.000000      0.930464   1.0\n",
      "5           Blue &  40.759511 -73.962338  0.000000      0.349697   8.0\n",
      "6     Dutch Fred's  40.760875 -73.987817  0.394286      0.578278   3.0\n",
      "7        Hold Fast  40.760538 -73.990294  0.280000      0.610587   2.0\n",
      "8  Clinton Gourmet  40.761852 -73.993579  0.885714      0.462576   4.0\n",
      "9         Bocca Di  40.760235 -73.991549  0.514286      0.378692   6.0\n",
      "\n",
      "POI_FINAL_Travel_Agency.csv Rankings:\n",
      "                Name   Latitude  Longitude  Price($)  Weighted Sum  Rank\n",
      "0          KG Travel  40.773881 -73.947643  0.029240      0.301260   9.0\n",
      "1            Hotwire  40.763570 -73.985957  0.929825      0.485800   5.0\n",
      "2  BlueOrange Travel  40.762041 -73.984630  0.029240      0.407163   8.0\n",
      "3      Global Travel  40.757219 -73.971336  0.251462      0.480304   6.0\n",
      "4  Gad International  40.756935 -73.977877  1.000000      0.554428   3.0\n",
      "5   Empire Limousine  40.757123 -73.986884  0.233918      0.407433   7.0\n",
      "6        Encore Jets  40.755089 -73.986280  0.064327      0.266964  10.0\n",
      "7        Blue Ribbon  40.754073 -73.985934  0.508772      0.724228   1.0\n",
      "8    VaccationTravel  40.752103 -73.968953  0.719298      0.599606   2.0\n",
      "9     Classic Travel  40.751265 -73.980015  0.000000      0.551382   4.0\n"
     ]
    }
   ],
   "source": [
    "import pandas as pd\n",
    "\n",
    "# List of CSV files\n",
    "csv_files = ['POI_FINAL_Museum.csv', 'POI_FINAL_Restaurant.csv', 'POI_FINAL_Travel_Agency.csv']\n",
    "\n",
    "# Define weights for each criterion\n",
    "weights = {\n",
    "    'Distance': 0.2,\n",
    "    'Popularity': 0.1,\n",
    "    'Ratings': 0.3,\n",
    "    'Total Ratings': 0.1,\n",
    "    'Price($)': 0.3\n",
    "}\n",
    "\n",
    "for file in csv_files:\n",
    "    # Read the CSV file\n",
    "    data = pd.read_csv(file, encoding='latin1')\n",
    "    \n",
    "    # Normalize the data\n",
    "    for criterion in weights.keys():\n",
    "        if criterion == 'Price($)':\n",
    "            data[criterion] = (data[criterion].max() - data[criterion]) / (data[criterion].max() - data[criterion].min())\n",
    "        else:\n",
    "            data[criterion] = (data[criterion] - data[criterion].min()) / (data[criterion].max() - data[criterion].min())\n",
    "    \n",
    "    # Calculate the weighted sum\n",
    "    data['Weighted Sum'] = sum(data[c] * weights[c] for c in weights.keys() if c in data.columns)\n",
    "    \n",
    "    # Find the alternative with the highest weighted sum\n",
    "    best_alternative = data.loc[data['Weighted Sum'].idxmax()]\n",
    "    \n",
    "     # Rank the alternatives based on the weighted sum\n",
    "    data['Rank'] = data['Weighted Sum'].rank(ascending=False)\n",
    "    \n",
    "    # Truncate the name\n",
    "    data['Name'] = data['Name'].apply(lambda x: ' '.join(x.split()[:2]))\n",
    "    \n",
    "    # Display the result\n",
    "    print(f\"\\n{file} Rankings:\")\n",
    "    print(data[['Name','Latitude', 'Longitude', 'Price($)', 'Weighted Sum', 'Rank']])\n",
    "\n",
    "\n"
   ]
  },
  {
   "cell_type": "code",
   "execution_count": null,
   "id": "f506e529",
   "metadata": {},
   "outputs": [],
   "source": []
  }
 ],
 "metadata": {
  "kernelspec": {
   "display_name": "Python 3 (ipykernel)",
   "language": "python",
   "name": "python3"
  },
  "language_info": {
   "codemirror_mode": {
    "name": "ipython",
    "version": 3
   },
   "file_extension": ".py",
   "mimetype": "text/x-python",
   "name": "python",
   "nbconvert_exporter": "python",
   "pygments_lexer": "ipython3",
   "version": "3.9.12"
  }
 },
 "nbformat": 4,
 "nbformat_minor": 5
}
